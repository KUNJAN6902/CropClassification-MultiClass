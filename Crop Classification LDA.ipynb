{
 "cells": [
  {
   "cell_type": "code",
   "execution_count": 1,
   "metadata": {},
   "outputs": [],
   "source": [
    "# Importing the libraries\n",
    "import pandas as pd\n",
    "import numpy as np\n",
    "from sklearn.model_selection import train_test_split\n",
    "from sklearn.metrics import confusion_matrix\n",
    "import warnings\n",
    "warnings.filterwarnings(module='sklearn*', action='ignore', category=DeprecationWarning)\n",
    "warnings.filterwarnings(\"ignore\")\n",
    "import matplotlib.pyplot as plt\n",
    "import xgboost as xgb"
   ]
  },
  {
   "cell_type": "code",
   "execution_count": 2,
   "metadata": {},
   "outputs": [],
   "source": [
    "df_orig  = pd.read_csv('Crop Classification 2.csv', encoding = 'utf-8')"
   ]
  },
  {
   "cell_type": "code",
   "execution_count": 3,
   "metadata": {},
   "outputs": [
    {
     "name": "stdout",
     "output_type": "stream",
     "text": [
      "Crop record frequency\n",
      "Wheat       0.313736\n",
      "Cumin       0.255218\n",
      "Jowar       0.129166\n",
      "Castor      0.085018\n",
      "Maize       0.082013\n",
      "Rapeseed    0.076822\n",
      "Gram        0.058026\n",
      "Name: Crop Name, dtype: float64\n"
     ]
    }
   ],
   "source": [
    "#Remove Crop categories with less than 5 % frequency\n",
    "dataframe_5per = df_orig[df_orig['Crop Name'] != 'Potato']\n",
    "dataframe_5per = dataframe_5per[dataframe_5per['Crop Name'] != 'Tobacco']\n",
    "dataframe_5per = dataframe_5per[dataframe_5per['Crop Name'] != 'Sugarcane']\n",
    "dataframe_5per = dataframe_5per[dataframe_5per['Crop Name'] != 'Fennel']\n",
    "\n",
    "print('Crop record frequency')\n",
    "print(dataframe_5per['Crop Name'].value_counts(normalize=True))"
   ]
  },
  {
   "cell_type": "code",
   "execution_count": 4,
   "metadata": {},
   "outputs": [
    {
     "name": "stdout",
     "output_type": "stream",
     "text": [
      "Crop record frequency :\n",
      "Wheat        0.304874\n",
      "Cumin        0.248009\n",
      "Jowar        0.125518\n",
      "Castor       0.082617\n",
      "Maize        0.079696\n",
      "Rapeseed     0.074652\n",
      "Gram         0.056387\n",
      "Fennel       0.019911\n",
      "Sugarcane    0.005044\n",
      "Tobacco      0.002336\n",
      "Potato       0.000956\n",
      "Name: Crop Name, dtype: float64\n"
     ]
    }
   ],
   "source": [
    "# Remove Crop categories with less than 7 % frequency\n",
    "\n",
    "print('Crop record frequency :')\n",
    "print(df_orig['Crop Name'].value_counts(normalize=True))\n",
    "\n",
    "dataframe_7per = dataframe_5per[dataframe_5per['Crop Name'] != 'Gram']"
   ]
  },
  {
   "cell_type": "code",
   "execution_count": 5,
   "metadata": {},
   "outputs": [
    {
     "name": "stdout",
     "output_type": "stream",
     "text": [
      "(17240, 33)\n",
      "(17240,)\n"
     ]
    }
   ],
   "source": [
    "X = dataframe_7per.iloc[:, 2:35].values\n",
    "y = dataframe_7per.iloc[:, 1].values\n",
    "print(X.shape)\n",
    "print(y.shape)"
   ]
  },
  {
   "cell_type": "code",
   "execution_count": 6,
   "metadata": {},
   "outputs": [
    {
     "name": "stdout",
     "output_type": "stream",
     "text": [
      "(21576, 33)\n",
      "(21576,)\n"
     ]
    }
   ],
   "source": [
    "#SMOTE\n",
    "from imblearn.over_sampling import SMOTE\n",
    "smote = SMOTE('minority')\n",
    "X, y = smote.fit_sample(X, y)\n",
    "print(X.shape)\n",
    "print(y.shape)"
   ]
  },
  {
   "cell_type": "code",
   "execution_count": 7,
   "metadata": {},
   "outputs": [],
   "source": [
    "# Splitting the dataset into the Training set and Test set\n",
    "from sklearn.model_selection import train_test_split\n",
    "X_train, X_test, y_train, y_test = train_test_split(X, y, test_size = 0.20, stratify = y, random_state = 0)"
   ]
  },
  {
   "cell_type": "code",
   "execution_count": 8,
   "metadata": {},
   "outputs": [],
   "source": [
    "# Feature Scaling\n",
    "from sklearn.preprocessing import StandardScaler\n",
    "sc = StandardScaler()\n",
    "X_train = sc.fit_transform(X_train)\n",
    "X_test = sc.transform(X_test)"
   ]
  },
  {
   "cell_type": "code",
   "execution_count": 9,
   "metadata": {},
   "outputs": [],
   "source": [
    "# Applying LDA\n",
    "from sklearn.discriminant_analysis import LinearDiscriminantAnalysis as LDA\n",
    "lda = LDA(n_components = 5)\n",
    "X_train = lda.fit_transform(X_train, y_train)\n",
    "X_test = lda.transform(X_test)\n",
    "\n",
    "#n_components : int, optional (default=None)\n",
    "#Number of components (<= min(n_classes - 1, n_features)) for dimensionality reduction. \n",
    "#If None, will be set to min(n_classes - 1, n_features).\n",
    "\n",
    "explained_variance = lda.explained_variance_ratio_"
   ]
  },
  {
   "cell_type": "code",
   "execution_count": 10,
   "metadata": {},
   "outputs": [
    {
     "data": {
      "text/plain": [
       "[0.6550290699132733,\n",
       " 0.15033581311701677,\n",
       " 0.11846804872174069,\n",
       " 0.0670523768731492,\n",
       " 0.009114691374820119]"
      ]
     },
     "execution_count": 10,
     "metadata": {},
     "output_type": "execute_result"
    }
   ],
   "source": [
    "len(list(explained_variance))\n",
    "list(explained_variance)"
   ]
  },
  {
   "cell_type": "raw",
   "metadata": {},
   "source": []
  },
  {
   "cell_type": "raw",
   "metadata": {},
   "source": [
    "Using GridSearch to decide optimum parameter values for model training.\n",
    "\n",
    "Experimenting with following values :\n",
    "\n",
    "n_estimators values : { 800, 1000, 1200 }\n",
    "learning_rate values : { 0.03, 0.04, 0.05, 0.06, 0.07, 0.08 }\n",
    "\n",
    "I have identified that max_depth = 7 is giving optimum results. So, setting a fix value for max_depth here."
   ]
  },
  {
   "cell_type": "raw",
   "metadata": {},
   "source": []
  },
  {
   "cell_type": "code",
   "execution_count": 23,
   "metadata": {},
   "outputs": [
    {
     "name": "stdout",
     "output_type": "stream",
     "text": [
      "GridSearch started...\n",
      "{'learning_rate': 0.03, 'max_depth': 7, 'n_estimators': 800}\n",
      "0.7086326767091541\n"
     ]
    }
   ],
   "source": [
    "from sklearn.model_selection import GridSearchCV\n",
    "grid_param = {  \n",
    "    'n_estimators': [800, 1000, 1200],\n",
    "    'learning_rate' : [0.03, 0.04, 0.05, 0.06, 0.07, 0.08],\n",
    "    'max_depth' : [7]\n",
    "    }\n",
    "\n",
    "print('GridSearch started...')\n",
    "\n",
    "#XGB Classifier\n",
    "xg_cl = xgb.XGBClassifier(objective= \"multi:softprob\")\n",
    "\n",
    "gd_sr = GridSearchCV(estimator = xg_cl,\n",
    "                     param_grid = grid_param,\n",
    "                     scoring = 'accuracy',\n",
    "                     n_jobs=1\n",
    "                     )\n",
    "\n",
    "\n",
    "gd_sr.fit(X_train, y_train)\n",
    "\n",
    "best_parameters = gd_sr.best_params_  \n",
    "print(best_parameters)\n",
    "\n",
    "best_result = gd_sr.best_score_  \n",
    "print(best_result)"
   ]
  },
  {
   "cell_type": "raw",
   "metadata": {},
   "source": []
  },
  {
   "cell_type": "raw",
   "metadata": {},
   "source": [
    "Based on above result, Optimum values of parameters are :\n",
    "\n",
    "'n_estimators' : 800\n",
    "'learning_rate' : 0.03\n",
    "\n",
    "And, Achieved accuracy is 70.86 %.\n",
    "\n",
    "Now, Let us try another set of values by keeping already found optimum values at focus.\n",
    "\n",
    "Choosing new set of values as follows :\n",
    "\n",
    "n_estimators values : { 500, 650, 800 }\n",
    "learning_rate values : { 0.01, 0.02, 0.03 }"
   ]
  },
  {
   "cell_type": "raw",
   "metadata": {},
   "source": []
  },
  {
   "cell_type": "code",
   "execution_count": 24,
   "metadata": {},
   "outputs": [
    {
     "name": "stdout",
     "output_type": "stream",
     "text": [
      "GridSearch started...\n",
      "{'learning_rate': 0.01, 'max_depth': 7, 'n_estimators': 500}\n",
      "0.7146581691772885\n"
     ]
    }
   ],
   "source": [
    "from sklearn.model_selection import GridSearchCV\n",
    "grid_param = {  \n",
    "    'n_estimators': [500, 650, 800],\n",
    "    'learning_rate' : [0.01, 0.02, 0.03],\n",
    "    'max_depth' : [7]\n",
    "    }\n",
    "\n",
    "print('GridSearch started...')\n",
    "\n",
    "#XGB Classifier\n",
    "xg_cl = xgb.XGBClassifier(objective= \"multi:softprob\")\n",
    "\n",
    "gd_sr = GridSearchCV(estimator = xg_cl,\n",
    "                     param_grid = grid_param,\n",
    "                     scoring = 'accuracy',\n",
    "                     n_jobs=1\n",
    "                     )\n",
    "\n",
    "\n",
    "gd_sr.fit(X_train, y_train)\n",
    "\n",
    "best_parameters = gd_sr.best_params_  \n",
    "print(best_parameters)\n",
    "\n",
    "best_result = gd_sr.best_score_  \n",
    "print(best_result)"
   ]
  },
  {
   "cell_type": "raw",
   "metadata": {},
   "source": []
  },
  {
   "cell_type": "raw",
   "metadata": {},
   "source": [
    "Based on above result, Optimum values of parameters are :\n",
    "\n",
    "'n_estimators' : 500\n",
    "'learning_rate' : 0.01\n",
    "\n",
    "And, Achieved accuracy is 71.46 %.\n",
    "\n",
    "Trying another set of values by keeping already found optimum values at focus.\n",
    "\n",
    "Choosing new set of values as follows :\n",
    "\n",
    "n_estimators values : { 300, 400, 500 }\n",
    "learning_rate values : { 0.008, 0.009, 0.01 }"
   ]
  },
  {
   "cell_type": "raw",
   "metadata": {},
   "source": []
  },
  {
   "cell_type": "code",
   "execution_count": 12,
   "metadata": {},
   "outputs": [
    {
     "name": "stdout",
     "output_type": "stream",
     "text": [
      "GridSearch started...\n",
      "{'learning_rate': 0.01, 'max_depth': 7, 'n_estimators': 500}\n",
      "0.7130938586326767\n"
     ]
    }
   ],
   "source": [
    "from sklearn.model_selection import GridSearchCV\n",
    "grid_param = {  \n",
    "    'n_estimators': [300, 400, 500],\n",
    "    'learning_rate' : [0.008, 0.009, 0.01],\n",
    "    'max_depth' : [7]\n",
    "    }\n",
    "\n",
    "print('GridSearch started...')\n",
    "\n",
    "#XGB Classifier\n",
    "xg_cl = xgb.XGBClassifier(objective= \"multi:softprob\")\n",
    "\n",
    "gd_sr = GridSearchCV(estimator = xg_cl,\n",
    "                     param_grid = grid_param,\n",
    "                     scoring = 'accuracy',\n",
    "                     n_jobs=1\n",
    "                     )\n",
    "\n",
    "\n",
    "gd_sr.fit(X_train, y_train)\n",
    "\n",
    "best_parameters = gd_sr.best_params_  \n",
    "print(best_parameters)\n",
    "\n",
    "best_result = gd_sr.best_score_  \n",
    "print(best_result)"
   ]
  },
  {
   "cell_type": "raw",
   "metadata": {},
   "source": []
  },
  {
   "cell_type": "raw",
   "metadata": {},
   "source": [
    "Resting my Model building process here with following values of hyperparameters.\n",
    "\n",
    "'n_estimators' : 500\n",
    "'learning_rate' : 0.01\n",
    "'max_depth' : 7\n",
    "\n",
    "And, Accuracy : 71 %"
   ]
  },
  {
   "cell_type": "raw",
   "metadata": {},
   "source": []
  }
 ],
 "metadata": {
  "kernelspec": {
   "display_name": "Python 3",
   "language": "python",
   "name": "python3"
  },
  "language_info": {
   "codemirror_mode": {
    "name": "ipython",
    "version": 3
   },
   "file_extension": ".py",
   "mimetype": "text/x-python",
   "name": "python",
   "nbconvert_exporter": "python",
   "pygments_lexer": "ipython3",
   "version": "3.7.1"
  }
 },
 "nbformat": 4,
 "nbformat_minor": 2
}
