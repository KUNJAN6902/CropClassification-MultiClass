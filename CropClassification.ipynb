{
 "cells": [
  {
   "cell_type": "markdown",
   "metadata": {},
   "source": [
    "# Domain Understanding : SWIR and NDVI"
   ]
  },
  {
   "cell_type": "markdown",
   "metadata": {},
   "source": [
    "Normalized Difference Vegetation Index (NDVI) quantifies vegetation by measuring the difference between near-infrared (which vegetation strongly reflects) and red light (which vegetation absorbs).\n",
    "\n",
    "NDVI always ranges from -1 to +1. \n",
    "Negative values : highly likely that it’s water \n",
    "Value close to +1 : dense green leaves \n",
    "Value close to zero : No green leaves, could even be an urbanized area\n",
    "\n",
    "Calculate NDVI : Normalized Difference Vegetation Index (NDVI) uses the NIR and red channels in its formula.\n",
    "NDVI = (NIR-Red) / (NIR+Red)\n",
    "\n",
    "Near Infrared sensor are extremely important for ecology because healthy plants reflect it – the water in their leaves scatters the wavelengths back into the sky. They can be used for vegetation monitoring, crop stress etc. By comparing it with other bands, we get indexes like NDVI, which let us measure plant health more precisely than if we only looked at visible greenness. But, NIR sensor do not tell us about the geology, rocks etc.\n",
    "\n",
    "SWIR sensors are useful for telling wet earth from dry earth, and for geology: rocks and soils that look similar in other bands often have strong contrasts in SWIR. SWIR sensors discriminates moisture content of soil and vegetation and penetrates thin clouds."
   ]
  },
  {
   "cell_type": "code",
   "execution_count": 2,
   "metadata": {},
   "outputs": [],
   "source": [
    "import pandas as pd\n",
    "import numpy as np\n",
    "import matplotlib.pyplot as plt\n",
    "import seaborn as sns\n",
    "import warnings\n",
    "import xgboost as xgb\n",
    "warnings.filterwarnings(\"ignore\")\n",
    "warnings.filterwarnings(module='sklearn*', action='ignore', category=DeprecationWarning)\n",
    "\n",
    "from sklearn.preprocessing import StandardScaler\n",
    "from sklearn.tree import DecisionTreeClassifier \n",
    "from sklearn.ensemble import RandomForestClassifier\n",
    "from sklearn.model_selection import train_test_split\n",
    "from sklearn.metrics import confusion_matrix\n",
    "from sklearn.metrics import accuracy_score"
   ]
  },
  {
   "cell_type": "code",
   "execution_count": 3,
   "metadata": {},
   "outputs": [
    {
     "name": "stdout",
     "output_type": "stream",
     "text": [
      "(18834, 35)\n"
     ]
    },
    {
     "data": {
      "text/html": [
       "<div>\n",
       "<style scoped>\n",
       "    .dataframe tbody tr th:only-of-type {\n",
       "        vertical-align: middle;\n",
       "    }\n",
       "\n",
       "    .dataframe tbody tr th {\n",
       "        vertical-align: top;\n",
       "    }\n",
       "\n",
       "    .dataframe thead th {\n",
       "        text-align: right;\n",
       "    }\n",
       "</style>\n",
       "<table border=\"1\" class=\"dataframe\">\n",
       "  <thead>\n",
       "    <tr style=\"text-align: right;\">\n",
       "      <th></th>\n",
       "      <th>UID</th>\n",
       "      <th>Crop Name</th>\n",
       "      <th>B11:SWIR</th>\n",
       "      <th>B12:SWIR</th>\n",
       "      <th>B2:Blue</th>\n",
       "      <th>B3:Green</th>\n",
       "      <th>B4:Red</th>\n",
       "      <th>B5:Vegetation red edge</th>\n",
       "      <th>B6:Vegetation red edge</th>\n",
       "      <th>B7:Vegetation red edge</th>\n",
       "      <th>...</th>\n",
       "      <th>3_B3:Green</th>\n",
       "      <th>3_B4:Red</th>\n",
       "      <th>3_B5:Vegetation red edge</th>\n",
       "      <th>3_B6:Vegetation red edge</th>\n",
       "      <th>3_B7:Vegetation red edge</th>\n",
       "      <th>3_B8:NIR</th>\n",
       "      <th>3_B8A:Narrow NIR</th>\n",
       "      <th>NDVI 1</th>\n",
       "      <th>NDVI 2</th>\n",
       "      <th>NDVI 3</th>\n",
       "    </tr>\n",
       "  </thead>\n",
       "  <tbody>\n",
       "    <tr>\n",
       "      <th>0</th>\n",
       "      <td>1</td>\n",
       "      <td>Wheat</td>\n",
       "      <td>2055</td>\n",
       "      <td>1257</td>\n",
       "      <td>1080</td>\n",
       "      <td>1017</td>\n",
       "      <td>644</td>\n",
       "      <td>1276</td>\n",
       "      <td>2898</td>\n",
       "      <td>3431</td>\n",
       "      <td>...</td>\n",
       "      <td>1011</td>\n",
       "      <td>635</td>\n",
       "      <td>1224</td>\n",
       "      <td>3121</td>\n",
       "      <td>4009</td>\n",
       "      <td>4360</td>\n",
       "      <td>4338</td>\n",
       "      <td>0.713714</td>\n",
       "      <td>0.753436</td>\n",
       "      <td>0.745746</td>\n",
       "    </tr>\n",
       "    <tr>\n",
       "      <th>1</th>\n",
       "      <td>2</td>\n",
       "      <td>Potato</td>\n",
       "      <td>1786</td>\n",
       "      <td>1026</td>\n",
       "      <td>1058</td>\n",
       "      <td>1031</td>\n",
       "      <td>738</td>\n",
       "      <td>1202</td>\n",
       "      <td>2818</td>\n",
       "      <td>3390</td>\n",
       "      <td>...</td>\n",
       "      <td>1093</td>\n",
       "      <td>696</td>\n",
       "      <td>1225</td>\n",
       "      <td>4009</td>\n",
       "      <td>5141</td>\n",
       "      <td>5153</td>\n",
       "      <td>5381</td>\n",
       "      <td>0.638678</td>\n",
       "      <td>0.756262</td>\n",
       "      <td>0.762011</td>\n",
       "    </tr>\n",
       "    <tr>\n",
       "      <th>2</th>\n",
       "      <td>3</td>\n",
       "      <td>Rapeseed</td>\n",
       "      <td>1415</td>\n",
       "      <td>657</td>\n",
       "      <td>1052</td>\n",
       "      <td>1138</td>\n",
       "      <td>695</td>\n",
       "      <td>1328</td>\n",
       "      <td>4092</td>\n",
       "      <td>4921</td>\n",
       "      <td>...</td>\n",
       "      <td>1187</td>\n",
       "      <td>738</td>\n",
       "      <td>1356</td>\n",
       "      <td>3917</td>\n",
       "      <td>4750</td>\n",
       "      <td>4566</td>\n",
       "      <td>4942</td>\n",
       "      <td>0.743873</td>\n",
       "      <td>0.714617</td>\n",
       "      <td>0.721719</td>\n",
       "    </tr>\n",
       "    <tr>\n",
       "      <th>3</th>\n",
       "      <td>4</td>\n",
       "      <td>Wheat</td>\n",
       "      <td>2041</td>\n",
       "      <td>1229</td>\n",
       "      <td>1097</td>\n",
       "      <td>1099</td>\n",
       "      <td>796</td>\n",
       "      <td>1324</td>\n",
       "      <td>2940</td>\n",
       "      <td>3619</td>\n",
       "      <td>...</td>\n",
       "      <td>1039</td>\n",
       "      <td>680</td>\n",
       "      <td>1140</td>\n",
       "      <td>3222</td>\n",
       "      <td>4159</td>\n",
       "      <td>4655</td>\n",
       "      <td>4395</td>\n",
       "      <td>0.668954</td>\n",
       "      <td>0.756324</td>\n",
       "      <td>0.745080</td>\n",
       "    </tr>\n",
       "    <tr>\n",
       "      <th>4</th>\n",
       "      <td>5</td>\n",
       "      <td>Rapeseed</td>\n",
       "      <td>1944</td>\n",
       "      <td>1272</td>\n",
       "      <td>1090</td>\n",
       "      <td>1166</td>\n",
       "      <td>825</td>\n",
       "      <td>1490</td>\n",
       "      <td>3533</td>\n",
       "      <td>4194</td>\n",
       "      <td>...</td>\n",
       "      <td>1083</td>\n",
       "      <td>725</td>\n",
       "      <td>1339</td>\n",
       "      <td>2946</td>\n",
       "      <td>3576</td>\n",
       "      <td>3930</td>\n",
       "      <td>3852</td>\n",
       "      <td>0.717804</td>\n",
       "      <td>0.651241</td>\n",
       "      <td>0.688507</td>\n",
       "    </tr>\n",
       "  </tbody>\n",
       "</table>\n",
       "<p>5 rows × 35 columns</p>\n",
       "</div>"
      ],
      "text/plain": [
       "   UID Crop Name  B11:SWIR  B12:SWIR  B2:Blue  B3:Green  B4:Red  \\\n",
       "0    1     Wheat      2055      1257     1080      1017     644   \n",
       "1    2    Potato      1786      1026     1058      1031     738   \n",
       "2    3  Rapeseed      1415       657     1052      1138     695   \n",
       "3    4     Wheat      2041      1229     1097      1099     796   \n",
       "4    5  Rapeseed      1944      1272     1090      1166     825   \n",
       "\n",
       "   B5:Vegetation red edge  B6:Vegetation red edge  B7:Vegetation red edge  \\\n",
       "0                    1276                    2898                    3431   \n",
       "1                    1202                    2818                    3390   \n",
       "2                    1328                    4092                    4921   \n",
       "3                    1324                    2940                    3619   \n",
       "4                    1490                    3533                    4194   \n",
       "\n",
       "     ...     3_B3:Green  3_B4:Red  3_B5:Vegetation red edge  \\\n",
       "0    ...           1011       635                      1224   \n",
       "1    ...           1093       696                      1225   \n",
       "2    ...           1187       738                      1356   \n",
       "3    ...           1039       680                      1140   \n",
       "4    ...           1083       725                      1339   \n",
       "\n",
       "   3_B6:Vegetation red edge  3_B7:Vegetation red edge  3_B8:NIR  \\\n",
       "0                      3121                      4009      4360   \n",
       "1                      4009                      5141      5153   \n",
       "2                      3917                      4750      4566   \n",
       "3                      3222                      4159      4655   \n",
       "4                      2946                      3576      3930   \n",
       "\n",
       "   3_B8A:Narrow NIR    NDVI 1    NDVI 2    NDVI 3  \n",
       "0              4338  0.713714  0.753436  0.745746  \n",
       "1              5381  0.638678  0.756262  0.762011  \n",
       "2              4942  0.743873  0.714617  0.721719  \n",
       "3              4395  0.668954  0.756324  0.745080  \n",
       "4              3852  0.717804  0.651241  0.688507  \n",
       "\n",
       "[5 rows x 35 columns]"
      ]
     },
     "execution_count": 3,
     "metadata": {},
     "output_type": "execute_result"
    }
   ],
   "source": [
    "dataframe  = pd.read_csv('Crop Classification 2.csv', encoding = 'utf-8')\n",
    "print(dataframe.shape)\n",
    "dataframe.head()"
   ]
  },
  {
   "cell_type": "markdown",
   "metadata": {},
   "source": [
    "## Data Preprocessing"
   ]
  },
  {
   "cell_type": "code",
   "execution_count": 4,
   "metadata": {},
   "outputs": [
    {
     "data": {
      "text/plain": [
       "UID                         0\n",
       "Crop Name                   0\n",
       "B11:SWIR                    0\n",
       "B12:SWIR                    0\n",
       "B2:Blue                     0\n",
       "B3:Green                    0\n",
       "B4:Red                      0\n",
       "B5:Vegetation red edge      0\n",
       "B6:Vegetation red edge      0\n",
       "B7:Vegetation red edge      0\n",
       "B8:NIR                      0\n",
       "B8A:Narrow NIR              0\n",
       "2_B11:SWIR                  0\n",
       "2_B12:SWIR                  0\n",
       "2_B2:Blue                   0\n",
       "2_B3:Green                  0\n",
       "2_B4:Red                    0\n",
       "2_B5:Vegetation red edge    0\n",
       "2_B6:Vegetation red edge    0\n",
       "2_B7:Vegetation red edge    0\n",
       "2_B8:NIR                    0\n",
       "2_B8A:Narrow NIR            0\n",
       "3_B11:SWIR                  0\n",
       "3_B12:SWIR                  0\n",
       "3_B2:Blue                   0\n",
       "3_B3:Green                  0\n",
       "3_B4:Red                    0\n",
       "3_B5:Vegetation red edge    0\n",
       "3_B6:Vegetation red edge    0\n",
       "3_B7:Vegetation red edge    0\n",
       "3_B8:NIR                    0\n",
       "3_B8A:Narrow NIR            0\n",
       "NDVI 1                      0\n",
       "NDVI 2                      0\n",
       "NDVI 3                      0\n",
       "dtype: int64"
      ]
     },
     "execution_count": 4,
     "metadata": {},
     "output_type": "execute_result"
    }
   ],
   "source": [
    "pd.isnull(dataframe).sum()"
   ]
  },
  {
   "cell_type": "markdown",
   "metadata": {},
   "source": [
    "=========================================================================================================\n",
    "\n",
    "=> There is No null values in Dataset.\n",
    "Hence, We do not need to perform Data Imputation.\n",
    "\n",
    "As part of Data Preprocessing, We will perform 'Scalling' before model building.\n",
    "\n",
    "========================================================================================================="
   ]
  },
  {
   "cell_type": "code",
   "execution_count": 5,
   "metadata": {},
   "outputs": [
    {
     "name": "stdout",
     "output_type": "stream",
     "text": [
      "Crop record frequency :\n",
      "Wheat        0.304874\n",
      "Cumin        0.248009\n",
      "Jowar        0.125518\n",
      "Castor       0.082617\n",
      "Maize        0.079696\n",
      "Rapeseed     0.074652\n",
      "Gram         0.056387\n",
      "Fennel       0.019911\n",
      "Sugarcane    0.005044\n",
      "Tobacco      0.002336\n",
      "Potato       0.000956\n",
      "Name: Crop Name, dtype: float64\n",
      " \n",
      "Crop record count :\n",
      "Wheat        5742\n",
      "Cumin        4671\n",
      "Jowar        2364\n",
      "Castor       1556\n",
      "Maize        1501\n",
      "Rapeseed     1406\n",
      "Gram         1062\n",
      "Fennel        375\n",
      "Sugarcane      95\n",
      "Tobacco        44\n",
      "Potato         18\n",
      "Name: Crop Name, dtype: int64\n"
     ]
    }
   ],
   "source": [
    "# Checking Crop wise Data frequency \n",
    "print('Crop record frequency :')\n",
    "print(dataframe['Crop Name'].value_counts(normalize=True))\n",
    "print(' ')\n",
    "print('Crop record count :')\n",
    "print(dataframe['Crop Name'].value_counts())"
   ]
  },
  {
   "cell_type": "markdown",
   "metadata": {},
   "source": [
    "# Approach 1"
   ]
  },
  {
   "cell_type": "markdown",
   "metadata": {},
   "source": [
    "## Step 1 - Dropping Crop Categories that has less than 5 % frequency"
   ]
  },
  {
   "cell_type": "markdown",
   "metadata": {},
   "source": [
    "=========================================================================================================\n",
    "\n",
    "=> As very few records of these crop categories are present in dataset, anyway We are not able to make proper decision about these crops due to scarcity of records.\n",
    "\n",
    "Moreover, These records will create problems in detection of other major crop categories by acting as Noise.\n",
    "\n",
    "Hence, It felt appropriate to remove these records from dataset.\n",
    "We will see how Models are reacting in presence of these records later on.\n",
    "\n",
    "========================================================================================================="
   ]
  },
  {
   "cell_type": "code",
   "execution_count": 6,
   "metadata": {},
   "outputs": [
    {
     "name": "stdout",
     "output_type": "stream",
     "text": [
      "Crop record frequency\n",
      "Wheat       0.313736\n",
      "Cumin       0.255218\n",
      "Jowar       0.129166\n",
      "Castor      0.085018\n",
      "Maize       0.082013\n",
      "Rapeseed    0.076822\n",
      "Gram        0.058026\n",
      "Name: Crop Name, dtype: float64\n"
     ]
    }
   ],
   "source": [
    "#Remove Crop categories with less than 5 % frequency\n",
    "\n",
    "dataframe_5per = dataframe[dataframe['Crop Name'] != 'Potato']\n",
    "dataframe_5per = dataframe_5per[dataframe_5per['Crop Name'] != 'Tobacco']\n",
    "dataframe_5per = dataframe_5per[dataframe_5per['Crop Name'] != 'Sugarcane']\n",
    "dataframe_5per = dataframe_5per[dataframe_5per['Crop Name'] != 'Fennel']\n",
    "\n",
    "print('Crop record frequency')\n",
    "print(dataframe_5per['Crop Name'].value_counts(normalize=True))"
   ]
  },
  {
   "cell_type": "code",
   "execution_count": 7,
   "metadata": {},
   "outputs": [],
   "source": [
    "# Splitting Independent and Dependent Variables\n",
    "x_5per = dataframe_5per.iloc[:, 2:35].values\n",
    "y_5per = dataframe_5per.iloc[:, 1].values\n",
    "\n",
    "# Splitting the dataset into the Training set and Test set\n",
    "X_train, X_test, y_train, y_test = train_test_split(x_5per, y_5per, test_size=0.2, random_state=0)\n",
    "\n",
    "# Feature Scaling\n",
    "sc = StandardScaler()\n",
    "X_train = sc.fit_transform(X_train)\n",
    "X_test = sc.transform(X_test)"
   ]
  },
  {
   "cell_type": "code",
   "execution_count": 8,
   "metadata": {},
   "outputs": [
    {
     "name": "stdout",
     "output_type": "stream",
     "text": [
      "('Accuracy : ', 0.5544933078393881)\n"
     ]
    }
   ],
   "source": [
    "# DescisionTreeClassifier\n",
    "\n",
    "#Loop to identify optimum tree_depth\n",
    "#for i in range (7, 13):\n",
    "    \n",
    "dtree_model = DecisionTreeClassifier(max_depth=10).fit(X_train, y_train)   #Optimum Value for max_depth : 10\n",
    "dtree_predictions = dtree_model.predict(X_test)\n",
    "\n",
    "print('Accuracy : ', accuracy_score(y_test, dtree_predictions))"
   ]
  },
  {
   "cell_type": "code",
   "execution_count": 9,
   "metadata": {},
   "outputs": [
    {
     "name": "stdout",
     "output_type": "stream",
     "text": [
      "('Accuracy : ', 0.6309751434034416)\n"
     ]
    }
   ],
   "source": [
    "# RandomForestClassifier\n",
    "\n",
    "#Loop to identify optimum values of estimators + tree_depth\n",
    "#i_array = [130, 140, 150, 160]\n",
    "#j_array = [40, 45, 50]\n",
    "\n",
    "#for i in temp_array:\n",
    "#    print(' ')\n",
    "#    for j in j_array:\n",
    "rf_clf = RandomForestClassifier(n_estimators=140, max_depth=45, random_state=0) #Optimum Values: estimators=140 & max_depth=45\n",
    "rf_clf.fit(X_train, y_train)\n",
    "rf_predictions = rf_clf.predict(X_test)\n",
    "   \n",
    "print('Accuracy : ', accuracy_score(y_test, rf_predictions))"
   ]
  },
  {
   "cell_type": "code",
   "execution_count": 10,
   "metadata": {},
   "outputs": [
    {
     "name": "stdout",
     "output_type": "stream",
     "text": [
      "('Accuracy : ', 0.6724938541382136)\n"
     ]
    }
   ],
   "source": [
    "# Loop to identify optimum values of estimators + tree_depth\n",
    "#i_array = [100, 500, 1000]\n",
    "#j_array = [0.08, 0.09, 0.1]\n",
    "\n",
    "#for i in i_array:\n",
    "#    print(' ')\n",
    "#    for j in j_array:\n",
    "xg_cl = xgb.XGBClassifier(objective= \"multi:softprob\", \n",
    "                          n_estimators=1000, \n",
    "                          learning_rate=0.1, \n",
    "                          seed=123,\n",
    "                          max_depth=7)\n",
    "\n",
    "xg_cl.fit(X_train, y_train)\n",
    "\n",
    "preds = xg_cl.predict(X_test)\n",
    "        \n",
    "print('Accuracy : ', accuracy_score(y_test, preds))"
   ]
  },
  {
   "cell_type": "raw",
   "metadata": {},
   "source": []
  },
  {
   "cell_type": "markdown",
   "metadata": {},
   "source": [
    "=========================================================================================================\n",
    "\n",
    "=> Dataset with Crop categories greater than 5 % frequency\n",
    "\n",
    "Decision Tree Classifier : 55.44 %\n",
    "Random Forest Classifier : 63.09 %\n",
    "XGBoost Classifier : 67.24 %\n",
    "\n",
    "It is clear that RandomForestClassifier (Ensemble Learning), XGBoost Classifier are performing better compare to DecisionTreeClassifier.\n",
    "\n",
    "Hence, We will use RandomForestClassifier and XGBoost Classifier now onwards.\n",
    "\n",
    "========================================================================================================="
   ]
  },
  {
   "cell_type": "raw",
   "metadata": {},
   "source": []
  },
  {
   "cell_type": "markdown",
   "metadata": {},
   "source": [
    "## Step 2 - Dropping Crop Categories that has less than 7 % frequency"
   ]
  },
  {
   "cell_type": "code",
   "execution_count": 11,
   "metadata": {},
   "outputs": [
    {
     "name": "stdout",
     "output_type": "stream",
     "text": [
      "Crop record frequency :\n",
      "Wheat        0.304874\n",
      "Cumin        0.248009\n",
      "Jowar        0.125518\n",
      "Castor       0.082617\n",
      "Maize        0.079696\n",
      "Rapeseed     0.074652\n",
      "Gram         0.056387\n",
      "Fennel       0.019911\n",
      "Sugarcane    0.005044\n",
      "Tobacco      0.002336\n",
      "Potato       0.000956\n",
      "Name: Crop Name, dtype: float64\n"
     ]
    }
   ],
   "source": [
    "# Remove Crop categories with less than 7 % frequency\n",
    "\n",
    "print('Crop record frequency :')\n",
    "print(dataframe['Crop Name'].value_counts(normalize=True))\n",
    "\n",
    "dataframe_7per = dataframe_5per[dataframe_5per['Crop Name'] != 'Gram']"
   ]
  },
  {
   "cell_type": "code",
   "execution_count": 12,
   "metadata": {},
   "outputs": [],
   "source": [
    "# Splitting Independent and Dependent Variables\n",
    "\n",
    "x_7per = dataframe_7per.iloc[:, 2:35].values\n",
    "y_7per = dataframe_7per.iloc[:, 1].values\n",
    "\n",
    "# Splitting the dataset into the Training set and Test set\n",
    "X_train, X_test, y_train, y_test = train_test_split(x_7per, y_7per, test_size=0.2, random_state=0)\n",
    "\n",
    "# Feature Scaling\n",
    "sc = StandardScaler()\n",
    "X_train = sc.fit_transform(X_train)\n",
    "X_test = sc.transform(X_test)"
   ]
  },
  {
   "cell_type": "code",
   "execution_count": 13,
   "metadata": {},
   "outputs": [
    {
     "name": "stdout",
     "output_type": "stream",
     "text": [
      "('Accuracy : ', 0.673723897911833)\n"
     ]
    }
   ],
   "source": [
    "# RandomForestClassifier\n",
    "\n",
    "rf_clf = RandomForestClassifier(n_estimators=180, max_depth=45, random_state=0) #Optimum Values : estimators=180 & max_depth=45\n",
    "rf_clf.fit(X_train, y_train)\n",
    "rf_predictions = rf_clf.predict(X_test)\n",
    "    \n",
    "print('Accuracy : ', accuracy_score(y_test, rf_predictions))"
   ]
  },
  {
   "cell_type": "code",
   "execution_count": 14,
   "metadata": {},
   "outputs": [
    {
     "name": "stdout",
     "output_type": "stream",
     "text": [
      "('Accuracy : ', 0.7033062645011601)\n"
     ]
    }
   ],
   "source": [
    "xg_cl = xgb.XGBClassifier(objective= \"multi:softprob\", \n",
    "                                  n_estimators=1000, \n",
    "                                  learning_rate=0.1, \n",
    "                                  seed=123,\n",
    "                                  max_depth=7)\n",
    "\n",
    "xg_cl.fit(X_train, y_train)\n",
    "\n",
    "preds = xg_cl.predict(X_test)\n",
    "        \n",
    "print('Accuracy : ', accuracy_score(y_test, preds))"
   ]
  },
  {
   "cell_type": "code",
   "execution_count": 15,
   "metadata": {},
   "outputs": [
    {
     "data": {
      "text/html": [
       "<style  type=\"text/css\" >\n",
       "    #T_28bc4440_9949_11e9_92fe_e86a64337628row0_col0 {\n",
       "            background-color:  #b40426;\n",
       "        }    #T_28bc4440_9949_11e9_92fe_e86a64337628row0_col1 {\n",
       "            background-color:  #4055c8;\n",
       "        }    #T_28bc4440_9949_11e9_92fe_e86a64337628row0_col2 {\n",
       "            background-color:  #4c66d6;\n",
       "        }    #T_28bc4440_9949_11e9_92fe_e86a64337628row0_col3 {\n",
       "            background-color:  #5875e1;\n",
       "        }    #T_28bc4440_9949_11e9_92fe_e86a64337628row0_col4 {\n",
       "            background-color:  #3d50c3;\n",
       "        }    #T_28bc4440_9949_11e9_92fe_e86a64337628row0_col5 {\n",
       "            background-color:  #485fd1;\n",
       "        }    #T_28bc4440_9949_11e9_92fe_e86a64337628row1_col0 {\n",
       "            background-color:  #3b4cc0;\n",
       "        }    #T_28bc4440_9949_11e9_92fe_e86a64337628row1_col1 {\n",
       "            background-color:  #b40426;\n",
       "        }    #T_28bc4440_9949_11e9_92fe_e86a64337628row1_col2 {\n",
       "            background-color:  #6b8df0;\n",
       "        }    #T_28bc4440_9949_11e9_92fe_e86a64337628row1_col3 {\n",
       "            background-color:  #6a8bef;\n",
       "        }    #T_28bc4440_9949_11e9_92fe_e86a64337628row1_col4 {\n",
       "            background-color:  #3b4cc0;\n",
       "        }    #T_28bc4440_9949_11e9_92fe_e86a64337628row1_col5 {\n",
       "            background-color:  #5f7fe8;\n",
       "        }    #T_28bc4440_9949_11e9_92fe_e86a64337628row2_col0 {\n",
       "            background-color:  #4055c8;\n",
       "        }    #T_28bc4440_9949_11e9_92fe_e86a64337628row2_col1 {\n",
       "            background-color:  #5977e3;\n",
       "        }    #T_28bc4440_9949_11e9_92fe_e86a64337628row2_col2 {\n",
       "            background-color:  #b40426;\n",
       "        }    #T_28bc4440_9949_11e9_92fe_e86a64337628row2_col3 {\n",
       "            background-color:  #b6cefa;\n",
       "        }    #T_28bc4440_9949_11e9_92fe_e86a64337628row2_col4 {\n",
       "            background-color:  #3b4cc0;\n",
       "        }    #T_28bc4440_9949_11e9_92fe_e86a64337628row2_col5 {\n",
       "            background-color:  #506bda;\n",
       "        }    #T_28bc4440_9949_11e9_92fe_e86a64337628row3_col0 {\n",
       "            background-color:  #3d50c3;\n",
       "        }    #T_28bc4440_9949_11e9_92fe_e86a64337628row3_col1 {\n",
       "            background-color:  #4961d2;\n",
       "        }    #T_28bc4440_9949_11e9_92fe_e86a64337628row3_col2 {\n",
       "            background-color:  #80a3fa;\n",
       "        }    #T_28bc4440_9949_11e9_92fe_e86a64337628row3_col3 {\n",
       "            background-color:  #b40426;\n",
       "        }    #T_28bc4440_9949_11e9_92fe_e86a64337628row3_col4 {\n",
       "            background-color:  #3c4ec2;\n",
       "        }    #T_28bc4440_9949_11e9_92fe_e86a64337628row3_col5 {\n",
       "            background-color:  #4e68d8;\n",
       "        }    #T_28bc4440_9949_11e9_92fe_e86a64337628row4_col0 {\n",
       "            background-color:  #3f53c6;\n",
       "        }    #T_28bc4440_9949_11e9_92fe_e86a64337628row4_col1 {\n",
       "            background-color:  #3b4cc0;\n",
       "        }    #T_28bc4440_9949_11e9_92fe_e86a64337628row4_col2 {\n",
       "            background-color:  #3b4cc0;\n",
       "        }    #T_28bc4440_9949_11e9_92fe_e86a64337628row4_col3 {\n",
       "            background-color:  #3b4cc0;\n",
       "        }    #T_28bc4440_9949_11e9_92fe_e86a64337628row4_col4 {\n",
       "            background-color:  #b40426;\n",
       "        }    #T_28bc4440_9949_11e9_92fe_e86a64337628row4_col5 {\n",
       "            background-color:  #3b4cc0;\n",
       "        }    #T_28bc4440_9949_11e9_92fe_e86a64337628row5_col0 {\n",
       "            background-color:  #3f53c6;\n",
       "        }    #T_28bc4440_9949_11e9_92fe_e86a64337628row5_col1 {\n",
       "            background-color:  #7597f6;\n",
       "        }    #T_28bc4440_9949_11e9_92fe_e86a64337628row5_col2 {\n",
       "            background-color:  #80a3fa;\n",
       "        }    #T_28bc4440_9949_11e9_92fe_e86a64337628row5_col3 {\n",
       "            background-color:  #6a8bef;\n",
       "        }    #T_28bc4440_9949_11e9_92fe_e86a64337628row5_col4 {\n",
       "            background-color:  #3f53c6;\n",
       "        }    #T_28bc4440_9949_11e9_92fe_e86a64337628row5_col5 {\n",
       "            background-color:  #b40426;\n",
       "        }</style>  \n",
       "<table id=\"T_28bc4440_9949_11e9_92fe_e86a64337628\" > \n",
       "<thead>    <tr> \n",
       "        <th class=\"blank level0\" ></th> \n",
       "        <th class=\"col_heading level0 col0\" >0</th> \n",
       "        <th class=\"col_heading level0 col1\" >1</th> \n",
       "        <th class=\"col_heading level0 col2\" >2</th> \n",
       "        <th class=\"col_heading level0 col3\" >3</th> \n",
       "        <th class=\"col_heading level0 col4\" >4</th> \n",
       "        <th class=\"col_heading level0 col5\" >5</th> \n",
       "    </tr></thead> \n",
       "<tbody>    <tr> \n",
       "        <th id=\"T_28bc4440_9949_11e9_92fe_e86a64337628level0_row0\" class=\"row_heading level0 row0\" >0</th> \n",
       "        <td id=\"T_28bc4440_9949_11e9_92fe_e86a64337628row0_col0\" class=\"data row0 col0\" >187</td> \n",
       "        <td id=\"T_28bc4440_9949_11e9_92fe_e86a64337628row0_col1\" class=\"data row0 col1\" >34</td> \n",
       "        <td id=\"T_28bc4440_9949_11e9_92fe_e86a64337628row0_col2\" class=\"data row0 col2\" >15</td> \n",
       "        <td id=\"T_28bc4440_9949_11e9_92fe_e86a64337628row0_col3\" class=\"data row0 col3\" >11</td> \n",
       "        <td id=\"T_28bc4440_9949_11e9_92fe_e86a64337628row0_col4\" class=\"data row0 col4\" >4</td> \n",
       "        <td id=\"T_28bc4440_9949_11e9_92fe_e86a64337628row0_col5\" class=\"data row0 col5\" >59</td> \n",
       "    </tr>    <tr> \n",
       "        <th id=\"T_28bc4440_9949_11e9_92fe_e86a64337628level0_row1\" class=\"row_heading level0 row1\" >1</th> \n",
       "        <td id=\"T_28bc4440_9949_11e9_92fe_e86a64337628row1_col0\" class=\"data row1 col0\" >12</td> \n",
       "        <td id=\"T_28bc4440_9949_11e9_92fe_e86a64337628row1_col1\" class=\"data row1 col1\" >743</td> \n",
       "        <td id=\"T_28bc4440_9949_11e9_92fe_e86a64337628row1_col2\" class=\"data row1 col2\" >37</td> \n",
       "        <td id=\"T_28bc4440_9949_11e9_92fe_e86a64337628row1_col3\" class=\"data row1 col3\" >15</td> \n",
       "        <td id=\"T_28bc4440_9949_11e9_92fe_e86a64337628row1_col4\" class=\"data row1 col4\" >2</td> \n",
       "        <td id=\"T_28bc4440_9949_11e9_92fe_e86a64337628row1_col5\" class=\"data row1 col5\" >127</td> \n",
       "    </tr>    <tr> \n",
       "        <th id=\"T_28bc4440_9949_11e9_92fe_e86a64337628level0_row2\" class=\"row_heading level0 row2\" >2</th> \n",
       "        <td id=\"T_28bc4440_9949_11e9_92fe_e86a64337628row2_col0\" class=\"data row2 col0\" >16</td> \n",
       "        <td id=\"T_28bc4440_9949_11e9_92fe_e86a64337628row2_col1\" class=\"data row2 col1\" >90</td> \n",
       "        <td id=\"T_28bc4440_9949_11e9_92fe_e86a64337628row2_col2\" class=\"data row2 col2\" >241</td> \n",
       "        <td id=\"T_28bc4440_9949_11e9_92fe_e86a64337628row2_col3\" class=\"data row2 col3\" >31</td> \n",
       "        <td id=\"T_28bc4440_9949_11e9_92fe_e86a64337628row2_col4\" class=\"data row2 col4\" >2</td> \n",
       "        <td id=\"T_28bc4440_9949_11e9_92fe_e86a64337628row2_col5\" class=\"data row2 col5\" >83</td> \n",
       "    </tr>    <tr> \n",
       "        <th id=\"T_28bc4440_9949_11e9_92fe_e86a64337628level0_row3\" class=\"row_heading level0 row3\" >3</th> \n",
       "        <td id=\"T_28bc4440_9949_11e9_92fe_e86a64337628row3_col0\" class=\"data row3 col0\" >14</td> \n",
       "        <td id=\"T_28bc4440_9949_11e9_92fe_e86a64337628row3_col1\" class=\"data row3 col1\" >53</td> \n",
       "        <td id=\"T_28bc4440_9949_11e9_92fe_e86a64337628row3_col2\" class=\"data row3 col2\" >51</td> \n",
       "        <td id=\"T_28bc4440_9949_11e9_92fe_e86a64337628row3_col3\" class=\"data row3 col3\" >77</td> \n",
       "        <td id=\"T_28bc4440_9949_11e9_92fe_e86a64337628row3_col4\" class=\"data row3 col4\" >3</td> \n",
       "        <td id=\"T_28bc4440_9949_11e9_92fe_e86a64337628row3_col5\" class=\"data row3 col5\" >75</td> \n",
       "    </tr>    <tr> \n",
       "        <th id=\"T_28bc4440_9949_11e9_92fe_e86a64337628level0_row4\" class=\"row_heading level0 row4\" >4</th> \n",
       "        <td id=\"T_28bc4440_9949_11e9_92fe_e86a64337628row4_col0\" class=\"data row4 col0\" >15</td> \n",
       "        <td id=\"T_28bc4440_9949_11e9_92fe_e86a64337628row4_col1\" class=\"data row4 col1\" >18</td> \n",
       "        <td id=\"T_28bc4440_9949_11e9_92fe_e86a64337628row4_col2\" class=\"data row4 col2\" >0</td> \n",
       "        <td id=\"T_28bc4440_9949_11e9_92fe_e86a64337628row4_col3\" class=\"data row4 col3\" >4</td> \n",
       "        <td id=\"T_28bc4440_9949_11e9_92fe_e86a64337628row4_col4\" class=\"data row4 col4\" >240</td> \n",
       "        <td id=\"T_28bc4440_9949_11e9_92fe_e86a64337628row4_col5\" class=\"data row4 col5\" >16</td> \n",
       "    </tr>    <tr> \n",
       "        <th id=\"T_28bc4440_9949_11e9_92fe_e86a64337628level0_row5\" class=\"row_heading level0 row5\" >5</th> \n",
       "        <td id=\"T_28bc4440_9949_11e9_92fe_e86a64337628row5_col0\" class=\"data row5 col0\" >15</td> \n",
       "        <td id=\"T_28bc4440_9949_11e9_92fe_e86a64337628row5_col1\" class=\"data row5 col1\" >149</td> \n",
       "        <td id=\"T_28bc4440_9949_11e9_92fe_e86a64337628row5_col2\" class=\"data row5 col2\" >51</td> \n",
       "        <td id=\"T_28bc4440_9949_11e9_92fe_e86a64337628row5_col3\" class=\"data row5 col3\" >15</td> \n",
       "        <td id=\"T_28bc4440_9949_11e9_92fe_e86a64337628row5_col4\" class=\"data row5 col4\" >6</td> \n",
       "        <td id=\"T_28bc4440_9949_11e9_92fe_e86a64337628row5_col5\" class=\"data row5 col5\" >937</td> \n",
       "    </tr></tbody> \n",
       "</table> "
      ],
      "text/plain": [
       "<pandas.io.formats.style.Styler at 0x14325d30>"
      ]
     },
     "execution_count": 15,
     "metadata": {},
     "output_type": "execute_result"
    }
   ],
   "source": [
    "# Creates a confusion matrix\n",
    "cm = confusion_matrix(y_test, preds)\n",
    "\n",
    "# Transform to df for easier plotting\n",
    "cm_df = pd.DataFrame(cm)\n",
    "\n",
    "cm_df.style.background_gradient(cmap='coolwarm')"
   ]
  },
  {
   "cell_type": "raw",
   "metadata": {},
   "source": []
  },
  {
   "cell_type": "markdown",
   "metadata": {},
   "source": [
    "=========================================================================================================\n",
    "\n",
    "=> Dataset with Crop categories greater than 7 % frequency\n",
    "\n",
    "Random Forest Classifier : 67.37 %\n",
    "XGBoost Classifier : 70.33 %\n",
    "\n",
    "========================================================================================================="
   ]
  },
  {
   "cell_type": "raw",
   "metadata": {},
   "source": []
  },
  {
   "cell_type": "markdown",
   "metadata": {},
   "source": [
    "=========================================================================================================\n",
    "\n",
    "By dropping low frequency crop categories, we successfully increased model accuracy. \n",
    "\n",
    "=> RandomForestClassifier accuracy increased from 63.09 % to 67.37 %\n",
    "\n",
    "=> XGBoost Classifier accuracy increased from 67.24 % to 70.33 %\n",
    "\n",
    "But Now, It is not advisable/appropriate to drop more crop categories to achieve higher accuracy.\n",
    "\n",
    "\n",
    "So, Over Record selected of greater than 7 % frequency, Let us apply Feature Selection.\n",
    "\n",
    "========================================================================================================="
   ]
  },
  {
   "cell_type": "raw",
   "metadata": {},
   "source": []
  },
  {
   "cell_type": "markdown",
   "metadata": {},
   "source": [
    "## Step 3 - Feature Selection - Dropping Highly corelated Columns"
   ]
  },
  {
   "cell_type": "code",
   "execution_count": 16,
   "metadata": {},
   "outputs": [
    {
     "data": {
      "text/html": [
       "<style  type=\"text/css\" >\n",
       "    #T_28d60dcf_9949_11e9_8121_e86a64337628row0_col0 {\n",
       "            background-color:  #b40426;\n",
       "        }    #T_28d60dcf_9949_11e9_8121_e86a64337628row0_col1 {\n",
       "            background-color:  #c32e31;\n",
       "        }    #T_28d60dcf_9949_11e9_8121_e86a64337628row0_col2 {\n",
       "            background-color:  #f49a7b;\n",
       "        }    #T_28d60dcf_9949_11e9_8121_e86a64337628row0_col3 {\n",
       "            background-color:  #ea7b60;\n",
       "        }    #T_28d60dcf_9949_11e9_8121_e86a64337628row0_col4 {\n",
       "            background-color:  #e16751;\n",
       "        }    #T_28d60dcf_9949_11e9_8121_e86a64337628row0_col5 {\n",
       "            background-color:  #da5a49;\n",
       "        }    #T_28d60dcf_9949_11e9_8121_e86a64337628row0_col6 {\n",
       "            background-color:  #90b2fe;\n",
       "        }    #T_28d60dcf_9949_11e9_8121_e86a64337628row0_col7 {\n",
       "            background-color:  #8fb1fe;\n",
       "        }    #T_28d60dcf_9949_11e9_8121_e86a64337628row0_col8 {\n",
       "            background-color:  #94b6ff;\n",
       "        }    #T_28d60dcf_9949_11e9_8121_e86a64337628row0_col9 {\n",
       "            background-color:  #96b7ff;\n",
       "        }    #T_28d60dcf_9949_11e9_8121_e86a64337628row0_col10 {\n",
       "            background-color:  #84a7fc;\n",
       "        }    #T_28d60dcf_9949_11e9_8121_e86a64337628row1_col0 {\n",
       "            background-color:  #c53334;\n",
       "        }    #T_28d60dcf_9949_11e9_8121_e86a64337628row1_col1 {\n",
       "            background-color:  #b40426;\n",
       "        }    #T_28d60dcf_9949_11e9_8121_e86a64337628row1_col2 {\n",
       "            background-color:  #ec8165;\n",
       "        }    #T_28d60dcf_9949_11e9_8121_e86a64337628row1_col3 {\n",
       "            background-color:  #e8765c;\n",
       "        }    #T_28d60dcf_9949_11e9_8121_e86a64337628row1_col4 {\n",
       "            background-color:  #d0473d;\n",
       "        }    #T_28d60dcf_9949_11e9_8121_e86a64337628row1_col5 {\n",
       "            background-color:  #da5a49;\n",
       "        }    #T_28d60dcf_9949_11e9_8121_e86a64337628row1_col6 {\n",
       "            background-color:  #4055c8;\n",
       "        }    #T_28d60dcf_9949_11e9_8121_e86a64337628row1_col7 {\n",
       "            background-color:  #445acc;\n",
       "        }    #T_28d60dcf_9949_11e9_8121_e86a64337628row1_col8 {\n",
       "            background-color:  #4b64d5;\n",
       "        }    #T_28d60dcf_9949_11e9_8121_e86a64337628row1_col9 {\n",
       "            background-color:  #4a63d3;\n",
       "        }    #T_28d60dcf_9949_11e9_8121_e86a64337628row1_col10 {\n",
       "            background-color:  #536edd;\n",
       "        }    #T_28d60dcf_9949_11e9_8121_e86a64337628row2_col0 {\n",
       "            background-color:  #f7ad90;\n",
       "        }    #T_28d60dcf_9949_11e9_8121_e86a64337628row2_col1 {\n",
       "            background-color:  #ed8366;\n",
       "        }    #T_28d60dcf_9949_11e9_8121_e86a64337628row2_col2 {\n",
       "            background-color:  #b40426;\n",
       "        }    #T_28d60dcf_9949_11e9_8121_e86a64337628row2_col3 {\n",
       "            background-color:  #c83836;\n",
       "        }    #T_28d60dcf_9949_11e9_8121_e86a64337628row2_col4 {\n",
       "            background-color:  #cc403a;\n",
       "        }    #T_28d60dcf_9949_11e9_8121_e86a64337628row2_col5 {\n",
       "            background-color:  #df634e;\n",
       "        }    #T_28d60dcf_9949_11e9_8121_e86a64337628row2_col6 {\n",
       "            background-color:  #4961d2;\n",
       "        }    #T_28d60dcf_9949_11e9_8121_e86a64337628row2_col7 {\n",
       "            background-color:  #4a63d3;\n",
       "        }    #T_28d60dcf_9949_11e9_8121_e86a64337628row2_col8 {\n",
       "            background-color:  #4c66d6;\n",
       "        }    #T_28d60dcf_9949_11e9_8121_e86a64337628row2_col9 {\n",
       "            background-color:  #4a63d3;\n",
       "        }    #T_28d60dcf_9949_11e9_8121_e86a64337628row2_col10 {\n",
       "            background-color:  #4e68d8;\n",
       "        }    #T_28d60dcf_9949_11e9_8121_e86a64337628row3_col0 {\n",
       "            background-color:  #ed8366;\n",
       "        }    #T_28d60dcf_9949_11e9_8121_e86a64337628row3_col1 {\n",
       "            background-color:  #e57058;\n",
       "        }    #T_28d60dcf_9949_11e9_8121_e86a64337628row3_col2 {\n",
       "            background-color:  #c73635;\n",
       "        }    #T_28d60dcf_9949_11e9_8121_e86a64337628row3_col3 {\n",
       "            background-color:  #b40426;\n",
       "        }    #T_28d60dcf_9949_11e9_8121_e86a64337628row3_col4 {\n",
       "            background-color:  #c83836;\n",
       "        }    #T_28d60dcf_9949_11e9_8121_e86a64337628row3_col5 {\n",
       "            background-color:  #c43032;\n",
       "        }    #T_28d60dcf_9949_11e9_8121_e86a64337628row3_col6 {\n",
       "            background-color:  #9bbcff;\n",
       "        }    #T_28d60dcf_9949_11e9_8121_e86a64337628row3_col7 {\n",
       "            background-color:  #92b4fe;\n",
       "        }    #T_28d60dcf_9949_11e9_8121_e86a64337628row3_col8 {\n",
       "            background-color:  #93b5fe;\n",
       "        }    #T_28d60dcf_9949_11e9_8121_e86a64337628row3_col9 {\n",
       "            background-color:  #90b2fe;\n",
       "        }    #T_28d60dcf_9949_11e9_8121_e86a64337628row3_col10 {\n",
       "            background-color:  #6c8ff1;\n",
       "        }    #T_28d60dcf_9949_11e9_8121_e86a64337628row4_col0 {\n",
       "            background-color:  #e97a5f;\n",
       "        }    #T_28d60dcf_9949_11e9_8121_e86a64337628row4_col1 {\n",
       "            background-color:  #d24b40;\n",
       "        }    #T_28d60dcf_9949_11e9_8121_e86a64337628row4_col2 {\n",
       "            background-color:  #cd423b;\n",
       "        }    #T_28d60dcf_9949_11e9_8121_e86a64337628row4_col3 {\n",
       "            background-color:  #cc403a;\n",
       "        }    #T_28d60dcf_9949_11e9_8121_e86a64337628row4_col4 {\n",
       "            background-color:  #b40426;\n",
       "        }    #T_28d60dcf_9949_11e9_8121_e86a64337628row4_col5 {\n",
       "            background-color:  #ca3b37;\n",
       "        }    #T_28d60dcf_9949_11e9_8121_e86a64337628row4_col6 {\n",
       "            background-color:  #3b4cc0;\n",
       "        }    #T_28d60dcf_9949_11e9_8121_e86a64337628row4_col7 {\n",
       "            background-color:  #3b4cc0;\n",
       "        }    #T_28d60dcf_9949_11e9_8121_e86a64337628row4_col8 {\n",
       "            background-color:  #3b4cc0;\n",
       "        }    #T_28d60dcf_9949_11e9_8121_e86a64337628row4_col9 {\n",
       "            background-color:  #3b4cc0;\n",
       "        }    #T_28d60dcf_9949_11e9_8121_e86a64337628row4_col10 {\n",
       "            background-color:  #3b4cc0;\n",
       "        }    #T_28d60dcf_9949_11e9_8121_e86a64337628row5_col0 {\n",
       "            background-color:  #dd5f4b;\n",
       "        }    #T_28d60dcf_9949_11e9_8121_e86a64337628row5_col1 {\n",
       "            background-color:  #d85646;\n",
       "        }    #T_28d60dcf_9949_11e9_8121_e86a64337628row5_col2 {\n",
       "            background-color:  #dc5d4a;\n",
       "        }    #T_28d60dcf_9949_11e9_8121_e86a64337628row5_col3 {\n",
       "            background-color:  #c53334;\n",
       "        }    #T_28d60dcf_9949_11e9_8121_e86a64337628row5_col4 {\n",
       "            background-color:  #c53334;\n",
       "        }    #T_28d60dcf_9949_11e9_8121_e86a64337628row5_col5 {\n",
       "            background-color:  #b40426;\n",
       "        }    #T_28d60dcf_9949_11e9_8121_e86a64337628row5_col6 {\n",
       "            background-color:  #9abbff;\n",
       "        }    #T_28d60dcf_9949_11e9_8121_e86a64337628row5_col7 {\n",
       "            background-color:  #8db0fe;\n",
       "        }    #T_28d60dcf_9949_11e9_8121_e86a64337628row5_col8 {\n",
       "            background-color:  #8fb1fe;\n",
       "        }    #T_28d60dcf_9949_11e9_8121_e86a64337628row5_col9 {\n",
       "            background-color:  #8fb1fe;\n",
       "        }    #T_28d60dcf_9949_11e9_8121_e86a64337628row5_col10 {\n",
       "            background-color:  #6b8df0;\n",
       "        }    #T_28d60dcf_9949_11e9_8121_e86a64337628row6_col0 {\n",
       "            background-color:  #b6cefa;\n",
       "        }    #T_28d60dcf_9949_11e9_8121_e86a64337628row6_col1 {\n",
       "            background-color:  #9dbdff;\n",
       "        }    #T_28d60dcf_9949_11e9_8121_e86a64337628row6_col2 {\n",
       "            background-color:  #a7c5fe;\n",
       "        }    #T_28d60dcf_9949_11e9_8121_e86a64337628row6_col3 {\n",
       "            background-color:  #cdd9ec;\n",
       "        }    #T_28d60dcf_9949_11e9_8121_e86a64337628row6_col4 {\n",
       "            background-color:  #abc8fd;\n",
       "        }    #T_28d60dcf_9949_11e9_8121_e86a64337628row6_col5 {\n",
       "            background-color:  #cdd9ec;\n",
       "        }    #T_28d60dcf_9949_11e9_8121_e86a64337628row6_col6 {\n",
       "            background-color:  #b40426;\n",
       "        }    #T_28d60dcf_9949_11e9_8121_e86a64337628row6_col7 {\n",
       "            background-color:  #b70d28;\n",
       "        }    #T_28d60dcf_9949_11e9_8121_e86a64337628row6_col8 {\n",
       "            background-color:  #c0282f;\n",
       "        }    #T_28d60dcf_9949_11e9_8121_e86a64337628row6_col9 {\n",
       "            background-color:  #ba162b;\n",
       "        }    #T_28d60dcf_9949_11e9_8121_e86a64337628row6_col10 {\n",
       "            background-color:  #e57058;\n",
       "        }    #T_28d60dcf_9949_11e9_8121_e86a64337628row7_col0 {\n",
       "            background-color:  #9fbfff;\n",
       "        }    #T_28d60dcf_9949_11e9_8121_e86a64337628row7_col1 {\n",
       "            background-color:  #89acfd;\n",
       "        }    #T_28d60dcf_9949_11e9_8121_e86a64337628row7_col2 {\n",
       "            background-color:  #93b5fe;\n",
       "        }    #T_28d60dcf_9949_11e9_8121_e86a64337628row7_col3 {\n",
       "            background-color:  #b5cdfa;\n",
       "        }    #T_28d60dcf_9949_11e9_8121_e86a64337628row7_col4 {\n",
       "            background-color:  #96b7ff;\n",
       "        }    #T_28d60dcf_9949_11e9_8121_e86a64337628row7_col5 {\n",
       "            background-color:  #b3cdfb;\n",
       "        }    #T_28d60dcf_9949_11e9_8121_e86a64337628row7_col6 {\n",
       "            background-color:  #b8122a;\n",
       "        }    #T_28d60dcf_9949_11e9_8121_e86a64337628row7_col7 {\n",
       "            background-color:  #b40426;\n",
       "        }    #T_28d60dcf_9949_11e9_8121_e86a64337628row7_col8 {\n",
       "            background-color:  #bb1b2c;\n",
       "        }    #T_28d60dcf_9949_11e9_8121_e86a64337628row7_col9 {\n",
       "            background-color:  #b50927;\n",
       "        }    #T_28d60dcf_9949_11e9_8121_e86a64337628row7_col10 {\n",
       "            background-color:  #dc5d4a;\n",
       "        }    #T_28d60dcf_9949_11e9_8121_e86a64337628row8_col0 {\n",
       "            background-color:  #a1c0ff;\n",
       "        }    #T_28d60dcf_9949_11e9_8121_e86a64337628row8_col1 {\n",
       "            background-color:  #8badfd;\n",
       "        }    #T_28d60dcf_9949_11e9_8121_e86a64337628row8_col2 {\n",
       "            background-color:  #90b2fe;\n",
       "        }    #T_28d60dcf_9949_11e9_8121_e86a64337628row8_col3 {\n",
       "            background-color:  #b2ccfb;\n",
       "        }    #T_28d60dcf_9949_11e9_8121_e86a64337628row8_col4 {\n",
       "            background-color:  #92b4fe;\n",
       "        }    #T_28d60dcf_9949_11e9_8121_e86a64337628row8_col5 {\n",
       "            background-color:  #b1cbfc;\n",
       "        }    #T_28d60dcf_9949_11e9_8121_e86a64337628row8_col6 {\n",
       "            background-color:  #c12b30;\n",
       "        }    #T_28d60dcf_9949_11e9_8121_e86a64337628row8_col7 {\n",
       "            background-color:  #bb1b2c;\n",
       "        }    #T_28d60dcf_9949_11e9_8121_e86a64337628row8_col8 {\n",
       "            background-color:  #b40426;\n",
       "        }    #T_28d60dcf_9949_11e9_8121_e86a64337628row8_col9 {\n",
       "            background-color:  #ba162b;\n",
       "        }    #T_28d60dcf_9949_11e9_8121_e86a64337628row8_col10 {\n",
       "            background-color:  #d75445;\n",
       "        }    #T_28d60dcf_9949_11e9_8121_e86a64337628row9_col0 {\n",
       "            background-color:  #a6c4fe;\n",
       "        }    #T_28d60dcf_9949_11e9_8121_e86a64337628row9_col1 {\n",
       "            background-color:  #8db0fe;\n",
       "        }    #T_28d60dcf_9949_11e9_8121_e86a64337628row9_col2 {\n",
       "            background-color:  #92b4fe;\n",
       "        }    #T_28d60dcf_9949_11e9_8121_e86a64337628row9_col3 {\n",
       "            background-color:  #b3cdfb;\n",
       "        }    #T_28d60dcf_9949_11e9_8121_e86a64337628row9_col4 {\n",
       "            background-color:  #96b7ff;\n",
       "        }    #T_28d60dcf_9949_11e9_8121_e86a64337628row9_col5 {\n",
       "            background-color:  #b2ccfb;\n",
       "        }    #T_28d60dcf_9949_11e9_8121_e86a64337628row9_col6 {\n",
       "            background-color:  #ba162b;\n",
       "        }    #T_28d60dcf_9949_11e9_8121_e86a64337628row9_col7 {\n",
       "            background-color:  #b50927;\n",
       "        }    #T_28d60dcf_9949_11e9_8121_e86a64337628row9_col8 {\n",
       "            background-color:  #ba162b;\n",
       "        }    #T_28d60dcf_9949_11e9_8121_e86a64337628row9_col9 {\n",
       "            background-color:  #b40426;\n",
       "        }    #T_28d60dcf_9949_11e9_8121_e86a64337628row9_col10 {\n",
       "            background-color:  #da5a49;\n",
       "        }    #T_28d60dcf_9949_11e9_8121_e86a64337628row10_col0 {\n",
       "            background-color:  #3b4cc0;\n",
       "        }    #T_28d60dcf_9949_11e9_8121_e86a64337628row10_col1 {\n",
       "            background-color:  #3b4cc0;\n",
       "        }    #T_28d60dcf_9949_11e9_8121_e86a64337628row10_col2 {\n",
       "            background-color:  #3b4cc0;\n",
       "        }    #T_28d60dcf_9949_11e9_8121_e86a64337628row10_col3 {\n",
       "            background-color:  #3b4cc0;\n",
       "        }    #T_28d60dcf_9949_11e9_8121_e86a64337628row10_col4 {\n",
       "            background-color:  #3b4cc0;\n",
       "        }    #T_28d60dcf_9949_11e9_8121_e86a64337628row10_col5 {\n",
       "            background-color:  #3b4cc0;\n",
       "        }    #T_28d60dcf_9949_11e9_8121_e86a64337628row10_col6 {\n",
       "            background-color:  #f39577;\n",
       "        }    #T_28d60dcf_9949_11e9_8121_e86a64337628row10_col7 {\n",
       "            background-color:  #e67259;\n",
       "        }    #T_28d60dcf_9949_11e9_8121_e86a64337628row10_col8 {\n",
       "            background-color:  #e26952;\n",
       "        }    #T_28d60dcf_9949_11e9_8121_e86a64337628row10_col9 {\n",
       "            background-color:  #e67259;\n",
       "        }    #T_28d60dcf_9949_11e9_8121_e86a64337628row10_col10 {\n",
       "            background-color:  #b40426;\n",
       "        }</style>  \n",
       "<table id=\"T_28d60dcf_9949_11e9_8121_e86a64337628\" > \n",
       "<thead>    <tr> \n",
       "        <th class=\"blank level0\" ></th> \n",
       "        <th class=\"col_heading level0 col0\" >B11:SWIR</th> \n",
       "        <th class=\"col_heading level0 col1\" >B12:SWIR</th> \n",
       "        <th class=\"col_heading level0 col2\" >B2:Blue</th> \n",
       "        <th class=\"col_heading level0 col3\" >B3:Green</th> \n",
       "        <th class=\"col_heading level0 col4\" >B4:Red</th> \n",
       "        <th class=\"col_heading level0 col5\" >B5:Vegetation red edge</th> \n",
       "        <th class=\"col_heading level0 col6\" >B6:Vegetation red edge</th> \n",
       "        <th class=\"col_heading level0 col7\" >B7:Vegetation red edge</th> \n",
       "        <th class=\"col_heading level0 col8\" >B8:NIR</th> \n",
       "        <th class=\"col_heading level0 col9\" >B8A:Narrow NIR</th> \n",
       "        <th class=\"col_heading level0 col10\" >NDVI 1</th> \n",
       "    </tr></thead> \n",
       "<tbody>    <tr> \n",
       "        <th id=\"T_28d60dcf_9949_11e9_8121_e86a64337628level0_row0\" class=\"row_heading level0 row0\" >B11:SWIR</th> \n",
       "        <td id=\"T_28d60dcf_9949_11e9_8121_e86a64337628row0_col0\" class=\"data row0 col0\" >1</td> \n",
       "        <td id=\"T_28d60dcf_9949_11e9_8121_e86a64337628row0_col1\" class=\"data row0 col1\" >0.933718</td> \n",
       "        <td id=\"T_28d60dcf_9949_11e9_8121_e86a64337628row0_col2\" class=\"data row0 col2\" >0.583836</td> \n",
       "        <td id=\"T_28d60dcf_9949_11e9_8121_e86a64337628row0_col3\" class=\"data row0 col3\" >0.732848</td> \n",
       "        <td id=\"T_28d60dcf_9949_11e9_8121_e86a64337628row0_col4\" class=\"data row0 col4\" >0.757565</td> \n",
       "        <td id=\"T_28d60dcf_9949_11e9_8121_e86a64337628row0_col5\" class=\"data row0 col5\" >0.829988</td> \n",
       "        <td id=\"T_28d60dcf_9949_11e9_8121_e86a64337628row0_col6\" class=\"data row0 col6\" >0.136881</td> \n",
       "        <td id=\"T_28d60dcf_9949_11e9_8121_e86a64337628row0_col7\" class=\"data row0 col7\" >0.0485603</td> \n",
       "        <td id=\"T_28d60dcf_9949_11e9_8121_e86a64337628row0_col8\" class=\"data row0 col8\" >0.0546999</td> \n",
       "        <td id=\"T_28d60dcf_9949_11e9_8121_e86a64337628row0_col9\" class=\"data row0 col9\" >0.0742981</td> \n",
       "        <td id=\"T_28d60dcf_9949_11e9_8121_e86a64337628row0_col10\" class=\"data row0 col10\" >-0.366222</td> \n",
       "    </tr>    <tr> \n",
       "        <th id=\"T_28d60dcf_9949_11e9_8121_e86a64337628level0_row1\" class=\"row_heading level0 row1\" >B12:SWIR</th> \n",
       "        <td id=\"T_28d60dcf_9949_11e9_8121_e86a64337628row1_col0\" class=\"data row1 col0\" >0.933718</td> \n",
       "        <td id=\"T_28d60dcf_9949_11e9_8121_e86a64337628row1_col1\" class=\"data row1 col1\" >1</td> \n",
       "        <td id=\"T_28d60dcf_9949_11e9_8121_e86a64337628row1_col2\" class=\"data row1 col2\" >0.679042</td> \n",
       "        <td id=\"T_28d60dcf_9949_11e9_8121_e86a64337628row1_col3\" class=\"data row1 col3\" >0.747001</td> \n",
       "        <td id=\"T_28d60dcf_9949_11e9_8121_e86a64337628row1_col4\" class=\"data row1 col4\" >0.856879</td> \n",
       "        <td id=\"T_28d60dcf_9949_11e9_8121_e86a64337628row1_col5\" class=\"data row1 col5\" >0.826637</td> \n",
       "        <td id=\"T_28d60dcf_9949_11e9_8121_e86a64337628row1_col6\" class=\"data row1 col6\" >-0.139019</td> \n",
       "        <td id=\"T_28d60dcf_9949_11e9_8121_e86a64337628row1_col7\" class=\"data row1 col7\" >-0.231784</td> \n",
       "        <td id=\"T_28d60dcf_9949_11e9_8121_e86a64337628row1_col8\" class=\"data row1 col8\" >-0.220184</td> \n",
       "        <td id=\"T_28d60dcf_9949_11e9_8121_e86a64337628row1_col9\" class=\"data row1 col9\" >-0.210609</td> \n",
       "        <td id=\"T_28d60dcf_9949_11e9_8121_e86a64337628row1_col10\" class=\"data row1 col10\" >-0.617325</td> \n",
       "    </tr>    <tr> \n",
       "        <th id=\"T_28d60dcf_9949_11e9_8121_e86a64337628level0_row2\" class=\"row_heading level0 row2\" >B2:Blue</th> \n",
       "        <td id=\"T_28d60dcf_9949_11e9_8121_e86a64337628row2_col0\" class=\"data row2 col0\" >0.583836</td> \n",
       "        <td id=\"T_28d60dcf_9949_11e9_8121_e86a64337628row2_col1\" class=\"data row2 col1\" >0.679042</td> \n",
       "        <td id=\"T_28d60dcf_9949_11e9_8121_e86a64337628row2_col2\" class=\"data row2 col2\" >1</td> \n",
       "        <td id=\"T_28d60dcf_9949_11e9_8121_e86a64337628row2_col3\" class=\"data row2 col3\" >0.913556</td> \n",
       "        <td id=\"T_28d60dcf_9949_11e9_8121_e86a64337628row2_col4\" class=\"data row2 col4\" >0.878879</td> \n",
       "        <td id=\"T_28d60dcf_9949_11e9_8121_e86a64337628row2_col5\" class=\"data row2 col5\" >0.804541</td> \n",
       "        <td id=\"T_28d60dcf_9949_11e9_8121_e86a64337628row2_col6\" class=\"data row2 col6\" >-0.109045</td> \n",
       "        <td id=\"T_28d60dcf_9949_11e9_8121_e86a64337628row2_col7\" class=\"data row2 col7\" >-0.206904</td> \n",
       "        <td id=\"T_28d60dcf_9949_11e9_8121_e86a64337628row2_col8\" class=\"data row2 col8\" >-0.216806</td> \n",
       "        <td id=\"T_28d60dcf_9949_11e9_8121_e86a64337628row2_col9\" class=\"data row2 col9\" >-0.209375</td> \n",
       "        <td id=\"T_28d60dcf_9949_11e9_8121_e86a64337628row2_col10\" class=\"data row2 col10\" >-0.646406</td> \n",
       "    </tr>    <tr> \n",
       "        <th id=\"T_28d60dcf_9949_11e9_8121_e86a64337628level0_row3\" class=\"row_heading level0 row3\" >B3:Green</th> \n",
       "        <td id=\"T_28d60dcf_9949_11e9_8121_e86a64337628row3_col0\" class=\"data row3 col0\" >0.732848</td> \n",
       "        <td id=\"T_28d60dcf_9949_11e9_8121_e86a64337628row3_col1\" class=\"data row3 col1\" >0.747001</td> \n",
       "        <td id=\"T_28d60dcf_9949_11e9_8121_e86a64337628row3_col2\" class=\"data row3 col2\" >0.913556</td> \n",
       "        <td id=\"T_28d60dcf_9949_11e9_8121_e86a64337628row3_col3\" class=\"data row3 col3\" >1</td> \n",
       "        <td id=\"T_28d60dcf_9949_11e9_8121_e86a64337628row3_col4\" class=\"data row3 col4\" >0.898925</td> \n",
       "        <td id=\"T_28d60dcf_9949_11e9_8121_e86a64337628row3_col5\" class=\"data row3 col5\" >0.930595</td> \n",
       "        <td id=\"T_28d60dcf_9949_11e9_8121_e86a64337628row3_col6\" class=\"data row3 col6\" >0.173692</td> \n",
       "        <td id=\"T_28d60dcf_9949_11e9_8121_e86a64337628row3_col7\" class=\"data row3 col7\" >0.0611205</td> \n",
       "        <td id=\"T_28d60dcf_9949_11e9_8121_e86a64337628row3_col8\" class=\"data row3 col8\" >0.0506569</td> \n",
       "        <td id=\"T_28d60dcf_9949_11e9_8121_e86a64337628row3_col9\" class=\"data row3 col9\" >0.0551443</td> \n",
       "        <td id=\"T_28d60dcf_9949_11e9_8121_e86a64337628row3_col10\" class=\"data row3 col10\" >-0.47939</td> \n",
       "    </tr>    <tr> \n",
       "        <th id=\"T_28d60dcf_9949_11e9_8121_e86a64337628level0_row4\" class=\"row_heading level0 row4\" >B4:Red</th> \n",
       "        <td id=\"T_28d60dcf_9949_11e9_8121_e86a64337628row4_col0\" class=\"data row4 col0\" >0.757565</td> \n",
       "        <td id=\"T_28d60dcf_9949_11e9_8121_e86a64337628row4_col1\" class=\"data row4 col1\" >0.856879</td> \n",
       "        <td id=\"T_28d60dcf_9949_11e9_8121_e86a64337628row4_col2\" class=\"data row4 col2\" >0.878879</td> \n",
       "        <td id=\"T_28d60dcf_9949_11e9_8121_e86a64337628row4_col3\" class=\"data row4 col3\" >0.898925</td> \n",
       "        <td id=\"T_28d60dcf_9949_11e9_8121_e86a64337628row4_col4\" class=\"data row4 col4\" >1</td> \n",
       "        <td id=\"T_28d60dcf_9949_11e9_8121_e86a64337628row4_col5\" class=\"data row4 col5\" >0.91099</td> \n",
       "        <td id=\"T_28d60dcf_9949_11e9_8121_e86a64337628row4_col6\" class=\"data row4 col6\" >-0.164414</td> \n",
       "        <td id=\"T_28d60dcf_9949_11e9_8121_e86a64337628row4_col7\" class=\"data row4 col7\" >-0.276596</td> \n",
       "        <td id=\"T_28d60dcf_9949_11e9_8121_e86a64337628row4_col8\" class=\"data row4 col8\" >-0.29488</td> \n",
       "        <td id=\"T_28d60dcf_9949_11e9_8121_e86a64337628row4_col9\" class=\"data row4 col9\" >-0.278074</td> \n",
       "        <td id=\"T_28d60dcf_9949_11e9_8121_e86a64337628row4_col10\" class=\"data row4 col10\" >-0.761349</td> \n",
       "    </tr>    <tr> \n",
       "        <th id=\"T_28d60dcf_9949_11e9_8121_e86a64337628level0_row5\" class=\"row_heading level0 row5\" >B5:Vegetation red edge</th> \n",
       "        <td id=\"T_28d60dcf_9949_11e9_8121_e86a64337628row5_col0\" class=\"data row5 col0\" >0.829988</td> \n",
       "        <td id=\"T_28d60dcf_9949_11e9_8121_e86a64337628row5_col1\" class=\"data row5 col1\" >0.826637</td> \n",
       "        <td id=\"T_28d60dcf_9949_11e9_8121_e86a64337628row5_col2\" class=\"data row5 col2\" >0.804541</td> \n",
       "        <td id=\"T_28d60dcf_9949_11e9_8121_e86a64337628row5_col3\" class=\"data row5 col3\" >0.930595</td> \n",
       "        <td id=\"T_28d60dcf_9949_11e9_8121_e86a64337628row5_col4\" class=\"data row5 col4\" >0.91099</td> \n",
       "        <td id=\"T_28d60dcf_9949_11e9_8121_e86a64337628row5_col5\" class=\"data row5 col5\" >1</td> \n",
       "        <td id=\"T_28d60dcf_9949_11e9_8121_e86a64337628row5_col6\" class=\"data row5 col6\" >0.171763</td> \n",
       "        <td id=\"T_28d60dcf_9949_11e9_8121_e86a64337628row5_col7\" class=\"data row5 col7\" >0.0474927</td> \n",
       "        <td id=\"T_28d60dcf_9949_11e9_8121_e86a64337628row5_col8\" class=\"data row5 col8\" >0.0363038</td> \n",
       "        <td id=\"T_28d60dcf_9949_11e9_8121_e86a64337628row5_col9\" class=\"data row5 col9\" >0.0464441</td> \n",
       "        <td id=\"T_28d60dcf_9949_11e9_8121_e86a64337628row5_col10\" class=\"data row5 col10\" >-0.487681</td> \n",
       "    </tr>    <tr> \n",
       "        <th id=\"T_28d60dcf_9949_11e9_8121_e86a64337628level0_row6\" class=\"row_heading level0 row6\" >B6:Vegetation red edge</th> \n",
       "        <td id=\"T_28d60dcf_9949_11e9_8121_e86a64337628row6_col0\" class=\"data row6 col0\" >0.136881</td> \n",
       "        <td id=\"T_28d60dcf_9949_11e9_8121_e86a64337628row6_col1\" class=\"data row6 col1\" >-0.139019</td> \n",
       "        <td id=\"T_28d60dcf_9949_11e9_8121_e86a64337628row6_col2\" class=\"data row6 col2\" >-0.109045</td> \n",
       "        <td id=\"T_28d60dcf_9949_11e9_8121_e86a64337628row6_col3\" class=\"data row6 col3\" >0.173692</td> \n",
       "        <td id=\"T_28d60dcf_9949_11e9_8121_e86a64337628row6_col4\" class=\"data row6 col4\" >-0.164414</td> \n",
       "        <td id=\"T_28d60dcf_9949_11e9_8121_e86a64337628row6_col5\" class=\"data row6 col5\" >0.171763</td> \n",
       "        <td id=\"T_28d60dcf_9949_11e9_8121_e86a64337628row6_col6\" class=\"data row6 col6\" >1</td> \n",
       "        <td id=\"T_28d60dcf_9949_11e9_8121_e86a64337628row6_col7\" class=\"data row6 col7\" >0.985219</td> \n",
       "        <td id=\"T_28d60dcf_9949_11e9_8121_e86a64337628row6_col8\" class=\"data row6 col8\" >0.958007</td> \n",
       "        <td id=\"T_28d60dcf_9949_11e9_8121_e86a64337628row6_col9\" class=\"data row6 col9\" >0.978884</td> \n",
       "        <td id=\"T_28d60dcf_9949_11e9_8121_e86a64337628row6_col10\" class=\"data row6 col10\" >0.718575</td> \n",
       "    </tr>    <tr> \n",
       "        <th id=\"T_28d60dcf_9949_11e9_8121_e86a64337628level0_row7\" class=\"row_heading level0 row7\" >B7:Vegetation red edge</th> \n",
       "        <td id=\"T_28d60dcf_9949_11e9_8121_e86a64337628row7_col0\" class=\"data row7 col0\" >0.0485603</td> \n",
       "        <td id=\"T_28d60dcf_9949_11e9_8121_e86a64337628row7_col1\" class=\"data row7 col1\" >-0.231784</td> \n",
       "        <td id=\"T_28d60dcf_9949_11e9_8121_e86a64337628row7_col2\" class=\"data row7 col2\" >-0.206904</td> \n",
       "        <td id=\"T_28d60dcf_9949_11e9_8121_e86a64337628row7_col3\" class=\"data row7 col3\" >0.0611205</td> \n",
       "        <td id=\"T_28d60dcf_9949_11e9_8121_e86a64337628row7_col4\" class=\"data row7 col4\" >-0.276596</td> \n",
       "        <td id=\"T_28d60dcf_9949_11e9_8121_e86a64337628row7_col5\" class=\"data row7 col5\" >0.0474927</td> \n",
       "        <td id=\"T_28d60dcf_9949_11e9_8121_e86a64337628row7_col6\" class=\"data row7 col6\" >0.985219</td> \n",
       "        <td id=\"T_28d60dcf_9949_11e9_8121_e86a64337628row7_col7\" class=\"data row7 col7\" >1</td> \n",
       "        <td id=\"T_28d60dcf_9949_11e9_8121_e86a64337628row7_col8\" class=\"data row7 col8\" >0.974117</td> \n",
       "        <td id=\"T_28d60dcf_9949_11e9_8121_e86a64337628row7_col9\" class=\"data row7 col9\" >0.993979</td> \n",
       "        <td id=\"T_28d60dcf_9949_11e9_8121_e86a64337628row7_col10\" class=\"data row7 col10\" >0.791058</td> \n",
       "    </tr>    <tr> \n",
       "        <th id=\"T_28d60dcf_9949_11e9_8121_e86a64337628level0_row8\" class=\"row_heading level0 row8\" >B8:NIR</th> \n",
       "        <td id=\"T_28d60dcf_9949_11e9_8121_e86a64337628row8_col0\" class=\"data row8 col0\" >0.0546999</td> \n",
       "        <td id=\"T_28d60dcf_9949_11e9_8121_e86a64337628row8_col1\" class=\"data row8 col1\" >-0.220184</td> \n",
       "        <td id=\"T_28d60dcf_9949_11e9_8121_e86a64337628row8_col2\" class=\"data row8 col2\" >-0.216806</td> \n",
       "        <td id=\"T_28d60dcf_9949_11e9_8121_e86a64337628row8_col3\" class=\"data row8 col3\" >0.0506569</td> \n",
       "        <td id=\"T_28d60dcf_9949_11e9_8121_e86a64337628row8_col4\" class=\"data row8 col4\" >-0.29488</td> \n",
       "        <td id=\"T_28d60dcf_9949_11e9_8121_e86a64337628row8_col5\" class=\"data row8 col5\" >0.0363038</td> \n",
       "        <td id=\"T_28d60dcf_9949_11e9_8121_e86a64337628row8_col6\" class=\"data row8 col6\" >0.958007</td> \n",
       "        <td id=\"T_28d60dcf_9949_11e9_8121_e86a64337628row8_col7\" class=\"data row8 col7\" >0.974117</td> \n",
       "        <td id=\"T_28d60dcf_9949_11e9_8121_e86a64337628row8_col8\" class=\"data row8 col8\" >1</td> \n",
       "        <td id=\"T_28d60dcf_9949_11e9_8121_e86a64337628row8_col9\" class=\"data row8 col9\" >0.975262</td> \n",
       "        <td id=\"T_28d60dcf_9949_11e9_8121_e86a64337628row8_col10\" class=\"data row8 col10\" >0.816513</td> \n",
       "    </tr>    <tr> \n",
       "        <th id=\"T_28d60dcf_9949_11e9_8121_e86a64337628level0_row9\" class=\"row_heading level0 row9\" >B8A:Narrow NIR</th> \n",
       "        <td id=\"T_28d60dcf_9949_11e9_8121_e86a64337628row9_col0\" class=\"data row9 col0\" >0.0742981</td> \n",
       "        <td id=\"T_28d60dcf_9949_11e9_8121_e86a64337628row9_col1\" class=\"data row9 col1\" >-0.210609</td> \n",
       "        <td id=\"T_28d60dcf_9949_11e9_8121_e86a64337628row9_col2\" class=\"data row9 col2\" >-0.209375</td> \n",
       "        <td id=\"T_28d60dcf_9949_11e9_8121_e86a64337628row9_col3\" class=\"data row9 col3\" >0.0551443</td> \n",
       "        <td id=\"T_28d60dcf_9949_11e9_8121_e86a64337628row9_col4\" class=\"data row9 col4\" >-0.278074</td> \n",
       "        <td id=\"T_28d60dcf_9949_11e9_8121_e86a64337628row9_col5\" class=\"data row9 col5\" >0.0464441</td> \n",
       "        <td id=\"T_28d60dcf_9949_11e9_8121_e86a64337628row9_col6\" class=\"data row9 col6\" >0.978884</td> \n",
       "        <td id=\"T_28d60dcf_9949_11e9_8121_e86a64337628row9_col7\" class=\"data row9 col7\" >0.993979</td> \n",
       "        <td id=\"T_28d60dcf_9949_11e9_8121_e86a64337628row9_col8\" class=\"data row9 col8\" >0.975262</td> \n",
       "        <td id=\"T_28d60dcf_9949_11e9_8121_e86a64337628row9_col9\" class=\"data row9 col9\" >1</td> \n",
       "        <td id=\"T_28d60dcf_9949_11e9_8121_e86a64337628row9_col10\" class=\"data row9 col10\" >0.79407</td> \n",
       "    </tr>    <tr> \n",
       "        <th id=\"T_28d60dcf_9949_11e9_8121_e86a64337628level0_row10\" class=\"row_heading level0 row10\" >NDVI 1</th> \n",
       "        <td id=\"T_28d60dcf_9949_11e9_8121_e86a64337628row10_col0\" class=\"data row10 col0\" >-0.366222</td> \n",
       "        <td id=\"T_28d60dcf_9949_11e9_8121_e86a64337628row10_col1\" class=\"data row10 col1\" >-0.617325</td> \n",
       "        <td id=\"T_28d60dcf_9949_11e9_8121_e86a64337628row10_col2\" class=\"data row10 col2\" >-0.646406</td> \n",
       "        <td id=\"T_28d60dcf_9949_11e9_8121_e86a64337628row10_col3\" class=\"data row10 col3\" >-0.47939</td> \n",
       "        <td id=\"T_28d60dcf_9949_11e9_8121_e86a64337628row10_col4\" class=\"data row10 col4\" >-0.761349</td> \n",
       "        <td id=\"T_28d60dcf_9949_11e9_8121_e86a64337628row10_col5\" class=\"data row10 col5\" >-0.487681</td> \n",
       "        <td id=\"T_28d60dcf_9949_11e9_8121_e86a64337628row10_col6\" class=\"data row10 col6\" >0.718575</td> \n",
       "        <td id=\"T_28d60dcf_9949_11e9_8121_e86a64337628row10_col7\" class=\"data row10 col7\" >0.791058</td> \n",
       "        <td id=\"T_28d60dcf_9949_11e9_8121_e86a64337628row10_col8\" class=\"data row10 col8\" >0.816513</td> \n",
       "        <td id=\"T_28d60dcf_9949_11e9_8121_e86a64337628row10_col9\" class=\"data row10 col9\" >0.79407</td> \n",
       "        <td id=\"T_28d60dcf_9949_11e9_8121_e86a64337628row10_col10\" class=\"data row10 col10\" >1</td> \n",
       "    </tr></tbody> \n",
       "</table> "
      ],
      "text/plain": [
       "<pandas.io.formats.style.Styler at 0xc67fe48>"
      ]
     },
     "execution_count": 16,
     "metadata": {},
     "output_type": "execute_result"
    }
   ],
   "source": [
    "# Correlation Matrix\n",
    "\n",
    "df_Corr = dataframe_7per[['Crop Name', 'B11:SWIR', 'B12:SWIR', 'B2:Blue', 'B3:Green', 'B4:Red', 'B5:Vegetation red edge', \n",
    "                          'B6:Vegetation red edge', 'B7:Vegetation red edge', 'B8:NIR', 'B8A:Narrow NIR', 'NDVI 1']]\n",
    "\n",
    "corr = df_Corr.corr()\n",
    "\n",
    "corr.style.background_gradient(cmap='coolwarm')"
   ]
  },
  {
   "cell_type": "raw",
   "metadata": {},
   "source": []
  },
  {
   "cell_type": "markdown",
   "metadata": {},
   "source": [
    "=========================================================================================================\n",
    "\n",
    "=> Conclusion from Correlation Matrix : \n",
    "\n",
    "(1) 'B11:SWIR' and 'B12:SWIR' are highly correlated.\n",
    "(2) 'B6:Vegetation red edge', 'B7:Vegetation red edge', 'B8:NIR', 'B8:Narrow NIR' are highly correlated.\n",
    "\n",
    "Let's Keep => B11:SWIR and B8:NIR (As NDVI gets calculated based on NIR and Red).\n",
    "And Drop => 'B12:SWIR', 'B6:Vegetation red edge', 'B7:Vegetation red edge' and 'B8A:Narrow NIR'.\n",
    "\n",
    "========================================================================================================="
   ]
  },
  {
   "cell_type": "code",
   "execution_count": 17,
   "metadata": {},
   "outputs": [
    {
     "name": "stdout",
     "output_type": "stream",
     "text": [
      "23\n",
      "Index([u'UID', u'Crop Name', u'B11:SWIR', u'B2:Blue', u'B3:Green', u'B4:Red',\n",
      "       u'B5:Vegetation red edge', u'B8:NIR', u'2_B11:SWIR', u'2_B2:Blue',\n",
      "       u'2_B3:Green', u'2_B4:Red', u'2_B5:Vegetation red edge', u'2_B8:NIR',\n",
      "       u'3_B11:SWIR', u'3_B2:Blue', u'3_B3:Green', u'3_B4:Red',\n",
      "       u'3_B5:Vegetation red edge', u'3_B8:NIR', u'NDVI 1', u'NDVI 2',\n",
      "       u'NDVI 3'],\n",
      "      dtype='object')\n"
     ]
    }
   ],
   "source": [
    "useless= ['B12:SWIR', 'B6:Vegetation red edge', 'B7:Vegetation red edge', 'B8A:Narrow NIR', \n",
    "          '2_B12:SWIR', '2_B6:Vegetation red edge', '2_B7:Vegetation red edge', '2_B8A:Narrow NIR',\n",
    "          '3_B12:SWIR', '3_B6:Vegetation red edge', '3_B7:Vegetation red edge', '3_B8A:Narrow NIR']\n",
    "\n",
    "dataframe2 = dataframe_7per.copy()\n",
    "\n",
    "dataframe2.head()\n",
    "\n",
    "dataframe2= dataframe2.drop(useless, axis = 1)\n",
    "print(len(dataframe2.columns))\n",
    "print(dataframe2.columns)"
   ]
  },
  {
   "cell_type": "code",
   "execution_count": 18,
   "metadata": {},
   "outputs": [],
   "source": [
    "# Splitting Independent and Dependent Variables\n",
    "x = dataframe2.iloc[:, 2:20].values\n",
    "y = dataframe2.iloc[:, 1].values\n",
    "\n",
    "# Splitting the dataset into the Training set and Test set\n",
    "X_train, X_test, y_train, y_test = train_test_split(x, y, test_size=0.2, random_state=0)\n",
    "\n",
    "# Feature Scaling\n",
    "sc = StandardScaler()\n",
    "X_train = sc.fit_transform(X_train)\n",
    "X_test = sc.transform(X_test)"
   ]
  },
  {
   "cell_type": "code",
   "execution_count": 19,
   "metadata": {},
   "outputs": [
    {
     "name": "stdout",
     "output_type": "stream",
     "text": [
      "('Accuracy : ', 0.6661832946635731)\n"
     ]
    }
   ],
   "source": [
    "# RandomForestClassifier\n",
    "#Optimum Values : estimators=180 & max_depth=45\n",
    "\n",
    "rf_clf = RandomForestClassifier(n_estimators=180, max_depth=45, random_state=0)   \n",
    "rf_clf.fit(X_train, y_train)\n",
    "rf_predictions = rf_clf.predict(X_test)\n",
    "    \n",
    "print('Accuracy : ', accuracy_score(y_test, rf_predictions))"
   ]
  },
  {
   "cell_type": "code",
   "execution_count": 20,
   "metadata": {},
   "outputs": [
    {
     "name": "stdout",
     "output_type": "stream",
     "text": [
      "('Accuracy : ', 0.6844547563805105)\n"
     ]
    }
   ],
   "source": [
    "xg_cl = xgb.XGBClassifier(objective= \"multi:softprob\", \n",
    "                          n_estimators=1000, \n",
    "                          learning_rate=0.1, \n",
    "                          seed=123,\n",
    "                          max_depth=7)\n",
    "\n",
    "xg_cl.fit(X_train, y_train)\n",
    "\n",
    "preds = xg_cl.predict(X_test)\n",
    "        \n",
    "print('Accuracy : ', accuracy_score(y_test, preds))"
   ]
  },
  {
   "cell_type": "raw",
   "metadata": {},
   "source": []
  },
  {
   "cell_type": "markdown",
   "metadata": {},
   "source": [
    "=========================================================================================================\n",
    "\n",
    "=> Dataset containing records of Crops with more than 7 % frequency :\n",
    "\n",
    "Without Feature Selection :\n",
    "\n",
    "(1) Random Forest Classifier : 67.37 %\n",
    "\n",
    "(2) XGBoost Classifier : 70.33 %\n",
    "                            \n",
    "With Feature Selection : \n",
    "\n",
    "(1) Random Forest Classifier : 66.61 %\n",
    "\n",
    "(2) XGBoost Classifier : 68.44 %                            \n",
    "\n",
    "\n",
    "=> Accuracy decreases by 1-2 % after we introduce Feature Selection to the dataset.\n",
    "\n",
    "So, We can conclude that, We should take all the columns of dataset into consideration no matter how correlated they are.\n",
    "\n",
    "Let's try Principal Component Analysis to check whether we can achieve better Model performance through it.\n",
    "\n",
    "========================================================================================================="
   ]
  },
  {
   "cell_type": "raw",
   "metadata": {},
   "source": []
  },
  {
   "cell_type": "markdown",
   "metadata": {},
   "source": [
    "# Approach 2"
   ]
  },
  {
   "cell_type": "markdown",
   "metadata": {},
   "source": [
    "## Principal Component Analysis - Dimensionality Reduction"
   ]
  },
  {
   "cell_type": "markdown",
   "metadata": {},
   "source": [
    "## [ Considering whole Dataset ]"
   ]
  },
  {
   "cell_type": "markdown",
   "metadata": {},
   "source": [
    "=========================================================================================================\n",
    "\n",
    "The main idea of principal component analysis (PCA) is to reduce the dimensionality of a data set consisting of many variables correlated with each other, either heavily or lightly, while retaining the variation present in the dataset, up to the maximum extent. \n",
    "\n",
    "The same is done by transforming the variables to a new set of variables, which are known as the principal components (or simply, the PCs) and are orthogonal, ordered such that the retention of variation present in the original variables decreases as we move down in the order.\n",
    "\n",
    "========================================================================================================="
   ]
  },
  {
   "cell_type": "code",
   "execution_count": 21,
   "metadata": {},
   "outputs": [],
   "source": [
    "# Splitting Independent and Dependent Variables\n",
    "X = dataframe.iloc[:, 2:35].values\n",
    "y = dataframe.iloc[:, 1].values\n",
    "\n",
    "# Splitting the dataset into the Training set and Test set\n",
    "X_train, X_test, y_train, y_test = train_test_split(X, y, test_size = 0.20, random_state = 0)\n",
    "\n",
    "# Feature Scaling\n",
    "sc = StandardScaler()\n",
    "X_train = sc.fit_transform(X_train)\n",
    "X_test = sc.transform(X_test)"
   ]
  },
  {
   "cell_type": "code",
   "execution_count": 22,
   "metadata": {},
   "outputs": [
    {
     "name": "stdout",
     "output_type": "stream",
     "text": [
      "33\n",
      "0.9868793836973294\n"
     ]
    },
    {
     "data": {
      "text/plain": [
       "[0.31495056317663034,\n",
       " 0.26232690901276023,\n",
       " 0.16709838123403856,\n",
       " 0.10437887600801797,\n",
       " 0.07473423190795096,\n",
       " 0.02604707825000772,\n",
       " 0.019197566855010353,\n",
       " 0.00805696128451673,\n",
       " 0.005547383236222875,\n",
       " 0.004541432732173742,\n",
       " 0.0025449510221778864,\n",
       " 0.0015505720527917424,\n",
       " 0.0014219370064909977,\n",
       " 0.0012959915256157528,\n",
       " 0.00113973699906862,\n",
       " 0.0008008648682779804,\n",
       " 0.000736989473076751,\n",
       " 0.0006631124198804289,\n",
       " 0.0005642043107659235,\n",
       " 0.0003746760560584836,\n",
       " 0.0003117750157203712,\n",
       " 0.00029068536332230236,\n",
       " 0.0002575936294467947,\n",
       " 0.00022372528711290458,\n",
       " 0.0001980328087143595,\n",
       " 0.00017374344572193274,\n",
       " 0.00012667132768238136,\n",
       " 0.00012038321740322912,\n",
       " 0.00010452236565874256,\n",
       " 8.61063119101056e-05,\n",
       " 6.74522078756977e-05,\n",
       " 4.084865545894498e-05,\n",
       " 2.6040932438214122e-05]"
      ]
     },
     "execution_count": 22,
     "metadata": {},
     "output_type": "execute_result"
    }
   ],
   "source": [
    "# Creating PCA Object\n",
    "from sklearn.decomposition import PCA\n",
    "pca = PCA(n_components = None)\n",
    "X_train = pca.fit_transform(X_train)\n",
    "X_test = pca.transform(X_test)\n",
    "explained_variance = pca.explained_variance_ratio_\n",
    "print(len(list(explained_variance)))\n",
    "\n",
    "print(sum(explained_variance[0:10]))    #first 10 PCs explain 98.68 % of the variance\n",
    "\n",
    "list(explained_variance)"
   ]
  },
  {
   "cell_type": "markdown",
   "metadata": {},
   "source": [
    "=========================================================================================================\n",
    "\n",
    "Here,the first 10 PCs explain 98.68 % of the variance.\n",
    "\n",
    "Let's consider first 10 PCAs to train model.\n",
    "\n",
    "========================================================================================================="
   ]
  },
  {
   "cell_type": "code",
   "execution_count": 23,
   "metadata": {},
   "outputs": [
    {
     "name": "stdout",
     "output_type": "stream",
     "text": [
      "('Accuracy : ', 0.575789753119193)\n"
     ]
    }
   ],
   "source": [
    "# Covering 10 Variances\n",
    "pca = PCA(n_components = 10)\n",
    "X_train = pca.fit_transform(X_train)\n",
    "X_test = pca.transform(X_test)\n",
    "\n",
    "# RandomForestClassifier\n",
    "#Optimum Values : estimators=180 & max_depth=45\n",
    "\n",
    "rf_clf = RandomForestClassifier(n_estimators=180, max_depth=45, random_state=0)\n",
    "rf_clf.fit(X_train, y_train)\n",
    "rf_predictions = rf_clf.predict(X_test)\n",
    "    \n",
    "print('Accuracy : ', accuracy_score(y_test, rf_predictions))"
   ]
  },
  {
   "cell_type": "code",
   "execution_count": 24,
   "metadata": {},
   "outputs": [
    {
     "name": "stdout",
     "output_type": "stream",
     "text": [
      "('Accuracy : ', 0.5694186355189806)\n"
     ]
    }
   ],
   "source": [
    "xg_cl = xgb.XGBClassifier(objective= \"multi:softprob\", \n",
    "                                  n_estimators=1000, \n",
    "                                  learning_rate=0.1, \n",
    "                                  seed=123,\n",
    "                                  max_depth=7)\n",
    "\n",
    "xg_cl.fit(X_train, y_train)\n",
    "\n",
    "preds = xg_cl.predict(X_test)\n",
    "        \n",
    "print('Accuracy : ', accuracy_score(y_test, preds))"
   ]
  },
  {
   "cell_type": "raw",
   "metadata": {},
   "source": []
  },
  {
   "cell_type": "markdown",
   "metadata": {},
   "source": [
    "=========================================================================================================\n",
    "\n",
    "We considered 98.68 % of the variance of Dataset And, PCA is giving us 57 % Accuracy.\n",
    "\n",
    "(1) Random Forest Classifier : 57.57 %\n",
    "\n",
    "(2) XGBoost Classifier : 56.94 %\n",
    "\n",
    "\n",
    "Let's treat Imbalanced Dataset with \"SMOTE\".\n",
    "\n",
    "========================================================================================================="
   ]
  },
  {
   "cell_type": "raw",
   "metadata": {},
   "source": []
  },
  {
   "cell_type": "markdown",
   "metadata": {},
   "source": [
    "# Approach 3"
   ]
  },
  {
   "cell_type": "markdown",
   "metadata": {},
   "source": [
    "# SMOTE - Synthetic Minority Oversampling Technique"
   ]
  },
  {
   "cell_type": "markdown",
   "metadata": {},
   "source": [
    "=========================================================================================================\n",
    "\n",
    "SMOTE synthetically generates new minority instances between existing instances. \n",
    "\n",
    "The new instances created are not just the copy of existing minority cases instead; the algorithm takes sample of feature space for each target class and its neighbors and then generates new instances that combine the features of the target cases with features of its neighbors.\n",
    "\n",
    "This approach increases the features available to each class and makes the samples more general. SMOTE takes the entire dataset as an input, but it increases the percentage of only the minority cases.\n",
    "\n",
    "========================================================================================================="
   ]
  },
  {
   "cell_type": "code",
   "execution_count": 25,
   "metadata": {},
   "outputs": [
    {
     "name": "stdout",
     "output_type": "stream",
     "text": [
      "(15067L, 33L)\n"
     ]
    }
   ],
   "source": [
    "# Splitting Independent and Dependent Variables\n",
    "X = dataframe.iloc[:, 2:35].values\n",
    "y = dataframe.iloc[:, 1].values\n",
    "\n",
    "# Splitting the dataset into the Training set and Test set\n",
    "X_train, X_test, y_train, y_test = train_test_split(X, y, test_size = 0.20, stratify = y, random_state = 0)\n",
    "\n",
    "# Feature Scaling\n",
    "sc = StandardScaler()\n",
    "X_train = sc.fit_transform(X_train)\n",
    "X_test = sc.transform(X_test)\n",
    "print(X_train.shape)"
   ]
  },
  {
   "cell_type": "code",
   "execution_count": 26,
   "metadata": {},
   "outputs": [
    {
     "name": "stdout",
     "output_type": "stream",
     "text": [
      "(19646L, 33L)\n"
     ]
    }
   ],
   "source": [
    "from imblearn.over_sampling import SMOTE\n",
    "smote = SMOTE('minority')\n",
    "\n",
    "x_sm, y_sm = smote.fit_sample(X_train, y_train)\n",
    "print(x_sm.shape)"
   ]
  },
  {
   "cell_type": "markdown",
   "metadata": {},
   "source": [
    "=========================================================================================================\n",
    "\n",
    "SMOTE added around 4600 new minority Crop categories records to dataset.\n",
    "\n",
    "========================================================================================================="
   ]
  },
  {
   "cell_type": "code",
   "execution_count": 27,
   "metadata": {},
   "outputs": [
    {
     "name": "stdout",
     "output_type": "stream",
     "text": [
      "('Accuracy : ', 0.6179984072206)\n"
     ]
    }
   ],
   "source": [
    "# RandomForestClassifier\n",
    "#Optimum Values identified for estimators = 140 and max_depth = 45\n",
    "\n",
    "#class_weight for improving model performance\n",
    "\n",
    "rf_clf = RandomForestClassifier(n_estimators=140, max_depth=45, random_state=0, class_weight = 'balanced')\n",
    "rf_clf.fit(x_sm, y_sm)\n",
    "rf_predictions = rf_clf.predict(X_test)\n",
    "    \n",
    "print('Accuracy : ', accuracy_score(y_test, rf_predictions))"
   ]
  },
  {
   "cell_type": "markdown",
   "metadata": {},
   "source": [
    "## XGBoost Classifier"
   ]
  },
  {
   "cell_type": "code",
   "execution_count": 28,
   "metadata": {},
   "outputs": [
    {
     "name": "stdout",
     "output_type": "stream",
     "text": [
      "('Accuracy : ', 0.64719936288824)\n"
     ]
    }
   ],
   "source": [
    "\n",
    "xg_cl = xgb.XGBClassifier(objective= \"multi:softprob\", \n",
    "                          n_estimators=1000, \n",
    "                          learning_rate=0.1, \n",
    "                          seed=123,\n",
    "                          max_depth=7)\n",
    "\n",
    "xg_cl.fit(x_sm, y_sm)\n",
    "\n",
    "preds = xg_cl.predict(X_test)\n",
    "        \n",
    "print('Accuracy : ', accuracy_score(y_test, preds))"
   ]
  },
  {
   "cell_type": "raw",
   "metadata": {},
   "source": []
  },
  {
   "cell_type": "markdown",
   "metadata": {},
   "source": [
    "=========================================================================================================\n",
    "\n",
    "SMOTE gives us accuracy of : \n",
    "    \n",
    "(1) Random Forest Classifier : 61.79 %\n",
    "    \n",
    "(2) XGBoost Classifier : 64.71 %\n",
    "\n",
    "========================================================================================================="
   ]
  },
  {
   "cell_type": "raw",
   "metadata": {},
   "source": []
  },
  {
   "cell_type": "markdown",
   "metadata": {},
   "source": [
    "# Combined Approach"
   ]
  },
  {
   "cell_type": "markdown",
   "metadata": {},
   "source": [
    "=========================================================================================================\n",
    "\n",
    "Let's combine all positives of above approaches :\n",
    "\n",
    "(1) Dataset with greater than 7% crop category frequencies\n",
    "\n",
    "(2) All columns of Dataset\n",
    "\n",
    "(3) SMOTE\n",
    "\n",
    "(4) XGBoost\n",
    "\n",
    "========================================================================================================="
   ]
  },
  {
   "cell_type": "code",
   "execution_count": 29,
   "metadata": {},
   "outputs": [
    {
     "name": "stdout",
     "output_type": "stream",
     "text": [
      "('Accuracy : ', 0.7093967517401392)\n"
     ]
    }
   ],
   "source": [
    "# Splitting Independent and Dependent Variables\n",
    "x_7per = dataframe_7per.iloc[:, 2:35].values\n",
    "y_7per = dataframe_7per.iloc[:, 1].values\n",
    "\n",
    "# Splitting the dataset into the Training set and Test set\n",
    "X_train, X_test, y_train, y_test = train_test_split(x_7per, y_7per, test_size=0.2, random_state=0)\n",
    "\n",
    "# Feature Scaling\n",
    "sc = StandardScaler()\n",
    "X_train = sc.fit_transform(X_train)\n",
    "X_test = sc.transform(X_test)\n",
    "\n",
    "#SMOTE\n",
    "from imblearn.over_sampling import SMOTE\n",
    "smote = SMOTE('minority')\n",
    "x_sm, y_sm = smote.fit_sample(X_train, y_train)\n",
    "\n",
    "#XGB Classifier\n",
    "xg_cl = xgb.XGBClassifier(objective= \"multi:softprob\", \n",
    "                                  n_estimators=1000, \n",
    "                                  learning_rate=0.1, \n",
    "                                  seed=123,\n",
    "                                  max_depth=8)\n",
    "\n",
    "xg_cl.fit(x_sm, y_sm)\n",
    "\n",
    "preds = xg_cl.predict(X_test)\n",
    "        \n",
    "print('Accuracy : ', accuracy_score(y_test, preds))"
   ]
  },
  {
   "cell_type": "markdown",
   "metadata": {},
   "source": [
    "=========================================================================================================\n",
    "\n",
    "i.e. 71 % Accuracy.\n",
    "\n",
    "I have tried to tweak model parameters to possible extent.\n",
    "\n",
    "And, This output is as optimum as I get.\n",
    "\n",
    "========================================================================================================="
   ]
  },
  {
   "cell_type": "code",
   "execution_count": null,
   "metadata": {},
   "outputs": [],
   "source": []
  }
 ],
 "metadata": {
  "kernelspec": {
   "display_name": "Python 3",
   "language": "python",
   "name": "python3"
  },
  "language_info": {
   "codemirror_mode": {
    "name": "ipython",
    "version": 3
   },
   "file_extension": ".py",
   "mimetype": "text/x-python",
   "name": "python",
   "nbconvert_exporter": "python",
   "pygments_lexer": "ipython3",
   "version": "3.7.1"
  }
 },
 "nbformat": 4,
 "nbformat_minor": 2
}
